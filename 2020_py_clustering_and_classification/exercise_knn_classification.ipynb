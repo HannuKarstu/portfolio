{
 "cells": [
  {
   "cell_type": "markdown",
   "metadata": {},
   "source": [
    "# Tehtävä 3 - K-nn -luokitin\n",
    "Hannu Karstu - TTV19SAI\n",
    "\n",
    "## Tehtävänanto\n",
    "\n",
    "1. Tee dokumentin K-nearest neighbors – a lazy learning algorithm (Python Machine learning 3rd edition).pdf mukainen KNN-algortimi Jupyter notebookiin\n",
    "2. Tutustu eri etäisyysparametreihin oheisen linkin kautta http://scikit-learn.org/stable/modules/generated/sklearn.neighbors.DistanceMetric.html \n",
    "3. Vertaile eri etäisyysparametreilla, kuinka luokittelutulos muuttuu. Dokumentoi vertailu Jupyter notebookiin\n",
    "4. Tutustu gridsearchCV -algoritmin toimintaan ja implementoi se koodiisi. \n",
    "5. Etsi väliltä k = 1 … 12 optimaalisin k:n arvo\n",
    "6. Selvitä, onnistuuko gridsearchCV-algoritmilla hakea optimaalinen parametripari sekä k:n arvolle 1…12 että etäisyyden mittaukselle (distance metric) menetelmillä (euclidean, minkowski, mahalanobis). \n",
    "7. Mikäli onnistuu, toteuta algoritmi edellä annetuilla vaatimuksilla\n",
    "8. Kommentoi koodisi kattavasti"
   ]
  },
  {
   "cell_type": "markdown",
   "metadata": {},
   "source": [
    "## 1. KNN-algoritmin tekeminen\n",
    "Tee dokumentin K-nearest neighbors – a lazy learning algorithm (Python Machine learning 3rd edition).pdf mukainen KNN-algortimi Jupyter notebookiin"
   ]
  },
  {
   "cell_type": "markdown",
   "metadata": {},
   "source": [
    "### 1.1 Datan lataus ja splittaus"
   ]
  },
  {
   "cell_type": "code",
   "execution_count": 3,
   "metadata": {},
   "outputs": [
    {
     "name": "stdout",
     "output_type": "stream",
     "text": [
      "X_train (100, 2)\n",
      "X_test (50, 2)\n",
      "y_train (100,)\n",
      "y_test (50,)\n",
      "[5.1 3.5] 0\n"
     ]
    }
   ],
   "source": [
    "from sklearn import datasets\n",
    "from sklearn.model_selection import train_test_split\n",
    "\n",
    "iris = datasets.load_iris()\n",
    "\n",
    "# Otetaan vain kaksi ekaa featurea\n",
    "X = iris.data[:, :2]\n",
    "\n",
    "# Label, eli kukan nimi\n",
    "y = iris.target\n",
    "\n",
    "# Splitataan treeni ja testidatoiksi\n",
    "X_train, X_test, y_train, y_test = train_test_split(\n",
    "    X, y, test_size=0.33, \n",
    "    random_state=42)\n",
    "\n",
    "# Tarkistetaan mittasuhteet\n",
    "print(\"X_train\",X_train.shape)\n",
    "print(\"X_test\",X_test.shape)\n",
    "print(\"y_train\",y_train.shape)\n",
    "print(\"y_test\",y_test.shape)\n",
    "\n",
    "print(X[0],y[0])"
   ]
  },
  {
   "cell_type": "markdown",
   "metadata": {},
   "source": [
    "### 1.2 Otetaan Plot_decision_regions käyttöön"
   ]
  },
  {
   "cell_type": "code",
   "execution_count": 68,
   "metadata": {},
   "outputs": [],
   "source": [
    "from matplotlib.colors import ListedColormap\n",
    "import matplotlib.pyplot as plt\n",
    "\n",
    "\n",
    "def plot_decision_regions(X, y, classifier, test_idx, resolution=0.02):\n",
    "    # Ulkoasumäärittelyt\n",
    "    markers = ('s', 'x', 'o', '^', 'v')\n",
    "    colors = ('red', 'blue', 'lightgreen', 'gray', 'cyan')\n",
    "    cmap = ListedColormap(colors[:len(np.unique(y))])\n",
    "\n",
    "    # Luodaan jakoalueet\n",
    "    x1_min, x1_max = X[:, 0].min() - 1, X[:, 0].max() + 1\n",
    "    x2_min, x2_max = X[:, 1].min() - 1, X[:, 1].max() + 1\n",
    "    xx1, xx2 = np.meshgrid(np.arange(x1_min, x1_max, resolution),\n",
    "                            np.arange(x2_min, x2_max, resolution))\n",
    "    \n",
    "    Z = classifier.predict(np.array([xx1.ravel(), xx2.ravel()]).T)\n",
    "    Z = Z.reshape(xx1.shape)\n",
    "    \n",
    "    # Plotataan jakava viiva sarakkeiden arvojen perusteella\n",
    "    plt.contourf(xx1, xx2, Z, alpha=0.3, cmap=cmap)\n",
    "    \n",
    "    plt.xlim(xx1.min(), xx1.max())\n",
    "    plt.ylim(xx2.min(), xx2.max())\n",
    "    \n",
    "     # Plotataan aineiston pisteet\n",
    "     ## Samanlainen plottaus kuin aiemmin, mutta vähän luettavampi ulkoasu\n",
    "    for idx, cl in enumerate(np.unique(y)):\n",
    "        plt.scatter(x=X[y == cl, 0],\n",
    "                    y=X[y == cl, 1],\n",
    "                    alpha=0.8,\n",
    "                    c=colors[idx],\n",
    "                    marker=markers[idx],\n",
    "                    label=cl,\n",
    "                    edgecolor='black')\n",
    "    if test_idx:\n",
    "      X_test, y_test = X[test_idx, :], y[test_idx]\n",
    "      plt.scatter(X_test[:, 0], X_test[:, 1], c='',\n",
    "               alpha=1.0, \n",
    "                  linewidth=1, \n",
    "                  marker='o',\n",
    "                  s=55, label='test set', edgecolor='black')"
   ]
  },
  {
   "cell_type": "markdown",
   "metadata": {},
   "source": [
    "### 1.3 Standardisoidaan tarvittavat"
   ]
  },
  {
   "cell_type": "code",
   "execution_count": 69,
   "metadata": {},
   "outputs": [
    {
     "name": "stdout",
     "output_type": "stream",
     "text": [
      "[-0.13835603 -0.26550845]\n"
     ]
    }
   ],
   "source": [
    "from sklearn.preprocessing import StandardScaler\n",
    "\n",
    "scaler = StandardScaler()\n",
    "\n",
    "X_train_std = scaler.fit_transform(X_train)\n",
    "X_test_std = scaler.fit_transform(X_test)\n",
    "\n",
    "print(X_train_std[0])"
   ]
  },
  {
   "cell_type": "markdown",
   "metadata": {},
   "source": [
    "### 1.4 Yhdistetään datat"
   ]
  },
  {
   "cell_type": "code",
   "execution_count": 70,
   "metadata": {},
   "outputs": [
    {
     "name": "stdout",
     "output_type": "stream",
     "text": [
      "X_combined_std (150, 2)\n",
      "y_combined (150,)\n"
     ]
    }
   ],
   "source": [
    "import numpy as np\n",
    "\n",
    "X_combined_std = np.r_[X_train_std, X_test_std]\n",
    "y_combined = np.r_[y_train, y_test]\n",
    "\n",
    "print(\"X_combined_std\",X_combined_std.shape)\n",
    "print(\"y_combined\",y_combined.shape)"
   ]
  },
  {
   "cell_type": "markdown",
   "metadata": {},
   "source": [
    "### 1.5 Ajetaan KNN-luokitin"
   ]
  },
  {
   "cell_type": "code",
   "execution_count": 71,
   "metadata": {},
   "outputs": [
    {
     "data": {
      "text/plain": [
       "KNeighborsClassifier(algorithm='auto', leaf_size=30, metric='minkowski',\n",
       "                     metric_params=None, n_jobs=None, n_neighbors=5, p=2,\n",
       "                     weights='uniform')"
      ]
     },
     "execution_count": 71,
     "metadata": {},
     "output_type": "execute_result"
    }
   ],
   "source": [
    "# KNN malli käyttäen Euclidean distance metriciä:    \n",
    "  \n",
    "from sklearn.neighbors import KNeighborsClassifier\n",
    "\n",
    "knn = KNeighborsClassifier(n_neighbors=5, p=2,\n",
    "                           metric='minkowski')\n",
    "\n",
    "knn.fit(X_train_std, y_train)"
   ]
  },
  {
   "cell_type": "markdown",
   "metadata": {},
   "source": [
    "### 1.6 Plotataan data ja decision regionit"
   ]
  },
  {
   "cell_type": "code",
   "execution_count": 72,
   "metadata": {},
   "outputs": [
    {
     "data": {
      "image/png": "[encoded data removed]",
      "text/plain": [
       "<Figure size 720x720 with 1 Axes>"
      ]
     },
     "metadata": {
      "needs_background": "light"
     },
     "output_type": "display_data"
    }
   ],
   "source": [
    "import matplotlib.pyplot as plt\n",
    "plt.rcParams[\"figure.figsize\"] = (10,10)\n",
    "\n",
    "plot_decision_regions(X_combined_std, y_combined,\n",
    "                      classifier=knn, test_idx=range(101,150))\n",
    "\n",
    "plt.xlabel('petal length [standardized]')\n",
    "plt.ylabel('petal width [standardized]')\n",
    "plt.legend(loc='upper left')\n",
    "plt.tight_layout()\n",
    "\n",
    "\n",
    "plt.show()"
   ]
  },
  {
   "cell_type": "markdown",
   "metadata": {},
   "source": [
    "### 1.7 Testataan mallin suorituskyky"
   ]
  },
  {
   "cell_type": "code",
   "execution_count": 73,
   "metadata": {},
   "outputs": [
    {
     "name": "stdout",
     "output_type": "stream",
     "text": [
      "Predicted 50 digits with accuracy: 80.0 %\n",
      "CPU times: user 3.92 ms, sys: 674 µs, total: 4.59 ms\n",
      "Wall time: 3.68 ms\n"
     ]
    }
   ],
   "source": [
    "%%time\n",
    "\n",
    "from sklearn.metrics import accuracy_score\n",
    "\n",
    "pred_knn = knn.predict(X_test_std)\n",
    "print('Predicted', len(pred_knn), 'digits with accuracy:', (accuracy_score(y_test, pred_knn))*100,\"%\")"
   ]
  },
  {
   "cell_type": "markdown",
   "metadata": {},
   "source": [
    "## 2. Etäisyysparametrit\n",
    "Tutustu eri etäisyysparametreihin oheisen linkin kautta http://scikit-learn.org/stable/modules/generated/sklearn.neighbors.DistanceMetric.html"
   ]
  },
  {
   "cell_type": "markdown",
   "metadata": {},
   "source": [
    "### 2.1 Eri etäisyysparametreja\n",
    "- euclidean\n",
    "- manhattan\n",
    "- chebyshev\n",
    "- minkowski\n",
    "- mahalanobis"
   ]
  },
  {
   "cell_type": "markdown",
   "metadata": {},
   "source": [
    "## 3. Etäisyysparametrien vertailua\n",
    "Vertaile eri etäisyysparametreilla, kuinka luokittelutulos muuttuu. Dokumentoi vertailu Jupyter notebookiin"
   ]
  },
  {
   "cell_type": "markdown",
   "metadata": {},
   "source": [
    "### 3.1 Luodaan testifunktio"
   ]
  },
  {
   "cell_type": "code",
   "execution_count": 74,
   "metadata": {},
   "outputs": [],
   "source": [
    "from sklearn.neighbors import KNeighborsClassifier\n",
    "from sklearn.metrics import accuracy_score\n",
    "\n",
    "def knnFitandPredict(metric, n_neighbors):\n",
    "    # mahalanobikselle joutuu tekemään vähän eri säädöt\n",
    "    # ei toimi muuten :/\n",
    "    if metric == \"mahalanobis\":\n",
    "        knn = KNeighborsClassifier(n_neighbors=n_neighbors, p=2,algorithm='brute', \n",
    "                               metric='mahalanobis', metric_params={'V': np.cov(X)})\n",
    "    else:\n",
    "        knn = KNeighborsClassifier(n_neighbors=n_neighbors, p=2,\n",
    "                           metric=metric)\n",
    "\n",
    "    # mallin sovitus\n",
    "    knn.fit(X_train_std, y_train)\n",
    "    \n",
    "    # ennuste\n",
    "    pred_knn = knn.predict(X_test_std)\n",
    "    \n",
    "    # tuloste\n",
    "    print('-',n_neighbors,'n_neighbors, accuracy:', (accuracy_score(y_test, pred_knn))*100,\"%\")"
   ]
  },
  {
   "cell_type": "markdown",
   "metadata": {},
   "source": [
    "### 3.2 Ajetaan testit eri etäisyysparametreilla"
   ]
  },
  {
   "cell_type": "code",
   "execution_count": 75,
   "metadata": {},
   "outputs": [
    {
     "name": "stdout",
     "output_type": "stream",
     "text": [
      "METRIC: euclidean\n",
      "- 1 n_neighbors, accuracy: 80.0 %\n",
      "- 2 n_neighbors, accuracy: 76.0 %\n",
      "- 3 n_neighbors, accuracy: 78.0 %\n",
      "- 4 n_neighbors, accuracy: 80.0 %\n",
      "- 5 n_neighbors, accuracy: 80.0 %\n",
      "- 6 n_neighbors, accuracy: 80.0 %\n",
      "- 7 n_neighbors, accuracy: 78.0 %\n",
      "- 8 n_neighbors, accuracy: 74.0 %\n",
      "- 9 n_neighbors, accuracy: 76.0 %\n",
      "- 10 n_neighbors, accuracy: 70.0 %\n",
      "\n",
      "METRIC: manhattan\n",
      "- 1 n_neighbors, accuracy: 78.0 %\n",
      "- 2 n_neighbors, accuracy: 76.0 %\n",
      "- 3 n_neighbors, accuracy: 82.0 %\n",
      "- 4 n_neighbors, accuracy: 82.0 %\n",
      "- 5 n_neighbors, accuracy: 80.0 %\n",
      "- 6 n_neighbors, accuracy: 72.0 %\n",
      "- 7 n_neighbors, accuracy: 78.0 %\n",
      "- 8 n_neighbors, accuracy: 78.0 %\n",
      "- 9 n_neighbors, accuracy: 76.0 %\n",
      "- 10 n_neighbors, accuracy: 70.0 %\n",
      "\n",
      "METRIC: chebyshev\n",
      "- 1 n_neighbors, accuracy: 78.0 %\n",
      "- 2 n_neighbors, accuracy: 80.0 %\n",
      "- 3 n_neighbors, accuracy: 76.0 %\n",
      "- 4 n_neighbors, accuracy: 76.0 %\n",
      "- 5 n_neighbors, accuracy: 80.0 %\n",
      "- 6 n_neighbors, accuracy: 82.0 %\n",
      "- 7 n_neighbors, accuracy: 82.0 %\n",
      "- 8 n_neighbors, accuracy: 76.0 %\n",
      "- 9 n_neighbors, accuracy: 74.0 %\n",
      "- 10 n_neighbors, accuracy: 78.0 %\n",
      "\n",
      "METRIC: minkowski\n",
      "- 1 n_neighbors, accuracy: 80.0 %\n",
      "- 2 n_neighbors, accuracy: 76.0 %\n",
      "- 3 n_neighbors, accuracy: 78.0 %\n",
      "- 4 n_neighbors, accuracy: 80.0 %\n",
      "- 5 n_neighbors, accuracy: 80.0 %\n",
      "- 6 n_neighbors, accuracy: 80.0 %\n",
      "- 7 n_neighbors, accuracy: 78.0 %\n",
      "- 8 n_neighbors, accuracy: 74.0 %\n",
      "- 9 n_neighbors, accuracy: 76.0 %\n",
      "- 10 n_neighbors, accuracy: 70.0 %\n",
      "\n",
      "METRIC: mahalanobis\n",
      "- 1 n_neighbors, accuracy: 80.0 %\n",
      "- 2 n_neighbors, accuracy: 78.0 %\n",
      "- 3 n_neighbors, accuracy: 80.0 %\n",
      "- 4 n_neighbors, accuracy: 78.0 %\n",
      "- 5 n_neighbors, accuracy: 80.0 %\n",
      "- 6 n_neighbors, accuracy: 78.0 %\n",
      "- 7 n_neighbors, accuracy: 72.0 %\n",
      "- 8 n_neighbors, accuracy: 74.0 %\n",
      "- 9 n_neighbors, accuracy: 72.0 %\n",
      "- 10 n_neighbors, accuracy: 76.0 %\n",
      "\n"
     ]
    }
   ],
   "source": [
    "# Ajetaan testit näillä etäisyysparametreilla\n",
    "metrics = [\"euclidean\",\n",
    "           \"manhattan\",\n",
    "           \"chebyshev\",\n",
    "           \"minkowski\",\n",
    "          \"mahalanobis\"]\n",
    "\n",
    "# Lähimpien naapurien maksimimäärä mitä testataan\n",
    "max_neighbors = 10\n",
    "\n",
    "# Looppi joka ajaa testit kaikille metrics-listan\n",
    "# etäisyysparametreille ja max_neighbors-määrään asti\n",
    "# lähimpiä naapureita\n",
    "for metric in metrics:\n",
    "    print(\"METRIC:\",str(metric))\n",
    "    for n_neighbor in range(1,max_neighbors+1):\n",
    "        knnFitandPredict(metric, n_neighbor)\n",
    "    print(\"\")"
   ]
  },
  {
   "cell_type": "markdown",
   "metadata": {},
   "source": [
    "## 4. gridsearchCV\n",
    "Tutustu gridsearchCV -algoritmin toimintaan ja implementoi se koodiisi. "
   ]
  },
  {
   "cell_type": "markdown",
   "metadata": {},
   "source": [
    "### 4.1 Testataan gridsearchCV:tä"
   ]
  },
  {
   "cell_type": "code",
   "execution_count": 76,
   "metadata": {},
   "outputs": [
    {
     "name": "stdout",
     "output_type": "stream",
     "text": [
      "gridsearchCV\n",
      "\n",
      "Predicted 50 digits with accuracy: 72.0 %\n",
      "Score: 0.72\n",
      "Best params: {'C': 200, 'kernel': 'linear'}\n"
     ]
    }
   ],
   "source": [
    "from sklearn.model_selection import GridSearchCV\n",
    "from sklearn import svm\n",
    "\n",
    "# Parametrit\n",
    "parameters = {'kernel':('linear', 'rbf'), 'C':[1, 200]}\n",
    "\n",
    "# Algoritmi\n",
    "svc = svm.SVC()\n",
    "\n",
    "# Luokittelija\n",
    "clf = GridSearchCV(svc, parameters)\n",
    "\n",
    "# Sovitus\n",
    "clf.fit(X_train_std, y_train)\n",
    "    \n",
    "# Ennuste\n",
    "pred_gscv = clf.predict(X_test_std)\n",
    "\n",
    "# Tulosteet\n",
    "print('gridsearchCV')\n",
    "print(\"\")\n",
    "print('Predicted', len(pred_gscv), 'digits with accuracy:', (accuracy_score(y_test, pred_gscv))*100,\"%\")\n",
    "print(\"Score:\",clf.score(X_test_std,y_test))\n",
    "print(\"Best params:\",clf.best_params_)\n"
   ]
  },
  {
   "cell_type": "markdown",
   "metadata": {},
   "source": [
    "#### Huomioita\n",
    "- Tämä ei tainnut olla aivan oikea tapa käyttää algoritmia, mutta toimi kuitenkin jotenkin."
   ]
  },
  {
   "cell_type": "markdown",
   "metadata": {},
   "source": [
    "## 5. Optimaalisin K:n arvon\n",
    "Etsi väliltä k = 1 … 12 optimaalisin k:n arvo"
   ]
  },
  {
   "cell_type": "markdown",
   "metadata": {},
   "source": [
    "### 5.1 Testataan toista tapaa käyttää gridsearchCV:tä\n",
    "- Tämä malli löytyi Moodlen materiaaleista"
   ]
  },
  {
   "cell_type": "code",
   "execution_count": 77,
   "metadata": {},
   "outputs": [
    {
     "name": "stdout",
     "output_type": "stream",
     "text": [
      "best_params: {'n_neighbors': 5}\n",
      "best_score: 0.8000000000000002\n"
     ]
    }
   ],
   "source": [
    "import numpy as np\n",
    "from sklearn.model_selection import GridSearchCV\n",
    "\n",
    "# Etsitään paras n_neighbors väliltä 1-12\n",
    "grid = {'n_neighbors' : np.arange(1, 13)}\n",
    "\n",
    "# Asetetaan KNN käyttöön\n",
    "knn_classifier = KNeighborsClassifier()\n",
    "\n",
    "# Käytetään ristivalidiaatiota parhaan arvon löytämiseksi\n",
    "knn = GridSearchCV(knn_classifier, grid, cv = 10)\n",
    "knn.fit(X_train_std, y_train)\n",
    "\n",
    "# Tulostetaan paras arvo\n",
    "print(\"best_params:\",knn.best_params_)\n",
    "\n",
    "# Tulostetaan pisteytys parhaalle arvolle\n",
    "print(\"best_score:\",knn.best_score_)"
   ]
  },
  {
   "cell_type": "markdown",
   "metadata": {},
   "source": [
    "### 5.2 Testataan eri etäisyysparametrit optimaalisimmalla k-arvolla"
   ]
  },
  {
   "cell_type": "code",
   "execution_count": 78,
   "metadata": {},
   "outputs": [
    {
     "name": "stdout",
     "output_type": "stream",
     "text": [
      "METRIC: euclidean\n",
      "- 5 n_neighbors, accuracy: 80.0 %\n",
      "\n",
      "METRIC: manhattan\n",
      "- 5 n_neighbors, accuracy: 80.0 %\n",
      "\n",
      "METRIC: chebyshev\n",
      "- 5 n_neighbors, accuracy: 80.0 %\n",
      "\n",
      "METRIC: minkowski\n",
      "- 5 n_neighbors, accuracy: 80.0 %\n",
      "\n",
      "METRIC: mahalanobis\n",
      "- 5 n_neighbors, accuracy: 80.0 %\n",
      "\n"
     ]
    }
   ],
   "source": [
    "# Otetaan best_paramsin kertoma paras\n",
    "# naapureiden määrä muuttujaan\n",
    "neighbors = knn.best_params_['n_neighbors']\n",
    "\n",
    "for metric in metrics:\n",
    "    print(\"METRIC:\",str(metric))\n",
    "    knnFitandPredict(metric, neighbors)\n",
    "    print(\"\")"
   ]
  },
  {
   "cell_type": "markdown",
   "metadata": {},
   "source": [
    "## 6. Selvitetään voidaanko löytää optimaalisin etäisyysparametri\n",
    "Selvitä, onnistuuko gridsearchCV-algoritmilla hakea optimaalinen parametripari sekä k:n arvolle 1…12 että etäisyyden mittaukselle (distance metric) menetelmillä (euclidean, minkowski, mahalanobis). "
   ]
  },
  {
   "cell_type": "markdown",
   "metadata": {},
   "source": [
    "### 6.1 Otetaan käyttöön äskeinen Gridsearch-algoritmi"
   ]
  },
  {
   "cell_type": "code",
   "execution_count": 79,
   "metadata": {},
   "outputs": [
    {
     "name": "stdout",
     "output_type": "stream",
     "text": [
      "best_params: {'metric': 'euclidean'}\n",
      "best_score: 0.8000000000000002\n"
     ]
    }
   ],
   "source": [
    "import numpy as np\n",
    "from sklearn.model_selection import GridSearchCV\n",
    "\n",
    "# Etsitään paras näistä etäisyysparametreista\n",
    "# mahalanobis ei toimi tässä testissä. Vaatii metric_\n",
    "# parametersit, mutta niillä ei taas muut toimi\n",
    "metricsB = [\"euclidean\",\n",
    "           \"manhattan\",\n",
    "           \"chebyshev\",\n",
    "           \"minkowski\"]\n",
    "\n",
    "gridm = {'metric' : metricsB}\n",
    "\n",
    "# Asetetaan KNN käyttöön\n",
    "knn_classifier = KNeighborsClassifier()\n",
    "\n",
    "# Käytetään ristivalidiaatiota parhaan arvon löytämiseksi\n",
    "knn = GridSearchCV(knn_classifier, gridm, cv = 10)\n",
    "knn.fit(X_train_std, y_train)\n",
    "\n",
    "# Tulostetaan paras arvo\n",
    "print(\"best_params:\",knn.best_params_)\n",
    "\n",
    "# Tulostetaan pisteytys parhaalle arvolle\n",
    "print(\"best_score:\",knn.best_score_)"
   ]
  },
  {
   "cell_type": "markdown",
   "metadata": {},
   "source": [
    "#### Huomioita\n",
    "- Mahalanobis-etäisyysparametria ei pysty testaamaan näillä samoilla säädöillä kuin muita. Sain sen toimimaan omassa testifunktiossani, mutta en tässä GridSearchissa"
   ]
  },
  {
   "cell_type": "markdown",
   "metadata": {},
   "source": [
    "## Arviointi\n",
    "\n",
    "- [x] Taso 1: olet tehnyt koodin ja testannut 2 eri etäisyys-menetelmällä dokumentoidusti\n",
    "\n",
    "- [x] Taso 2: olet tehnyt koodin ja testannut 4 eri etäisyys-menetelmällä dokumentoidusti\n",
    "\n",
    "- [x] Taso 3: olet edellisen lisäksi implementoinut gridsearchCV -algoritmin koodisi\n",
    "\n",
    "- [x] Taso 4: olet selvittänyt optimaalisen k:n arvon KNN-algoritmillesi\n",
    "\n",
    "- [x] Taso 5: olet selvittänyt dokumentoidusti onnistuuko sekä k- että distance metric parametrien evaluointi gridsearchCV-algoritmilla"
   ]
  }
 ],
 "metadata": {
  "kernelspec": {
   "display_name": "Python 3",
   "language": "python",
   "name": "python3"
  },
  "language_info": {
   "codemirror_mode": {
    "name": "ipython",
    "version": 3
   },
   "file_extension": ".py",
   "mimetype": "text/x-python",
   "name": "python",
   "nbconvert_exporter": "python",
   "pygments_lexer": "ipython3",
   "version": "3.7.6"
  }
 },
 "nbformat": 4,
 "nbformat_minor": 4
}
