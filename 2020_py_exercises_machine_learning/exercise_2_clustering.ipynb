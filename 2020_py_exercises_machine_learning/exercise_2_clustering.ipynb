{
 "cells": [
  {
   "cell_type": "markdown",
   "metadata": {},
   "source": [
    "Yhdistelmätekniikat\n",
    "===\n",
    "# Tehtävä 1 - Luokittelu\n",
    "Hannu Karstu - TTV19SAI\n",
    "\n",
    "## Tehtävänanto\n",
    "Tutustu koodiin: https://github.com/csc-training/intro-to-ml/blob/master/Extra-03.ipynb\n",
    "Tee luokittelua MNIST-datasetille niin, että käytät siinä eri yhdistelmätekniikoita (Voting, Stacking, Bagging ja Boosting). Minkälaisella kokoonpanolla saadaan paras tulos?\n",
    "Refaktoroi koodia niin, että teet yleiskäyttöisen luokan luokittelu ongelmien ratkaisemiseen, joka käyttää yhdistelmätekniikoita luokittelun toteuttamisessa.\n"
   ]
  },
  {
   "cell_type": "markdown",
   "metadata": {},
   "source": [
    "## 1. Ladataan data"
   ]
  },
  {
   "cell_type": "code",
   "execution_count": 1,
   "metadata": {},
   "outputs": [],
   "source": [
    "%matplotlib inline\n",
    "\n",
    "from pml_utils import get_mnist, show_failures\n",
    "\n",
    "import numpy as np\n",
    "from sklearn.model_selection import train_test_split\n",
    "from sklearn import __version__\n",
    "\n",
    "\n",
    "from distutils.version import LooseVersion as LV\n",
    "assert(LV(__version__) >= LV(\"0.20\")), \"Version >= 0.20 of sklearn is required.\""
   ]
  },
  {
   "cell_type": "code",
   "execution_count": 2,
   "metadata": {},
   "outputs": [
    {
     "name": "stdout",
     "output_type": "stream",
     "text": [
      "Not downloading, file already exists: MNIST/train-images-idx3-ubyte\n",
      "Not downloading, file already exists: MNIST/train-labels-idx1-ubyte\n",
      "Not downloading, file already exists: MNIST/t10k-images-idx3-ubyte\n",
      "Not downloading, file already exists: MNIST/t10k-labels-idx1-ubyte\n",
      "MNIST data loaded: train: 60000 test: 10000\n",
      "X_train: (60000, 784)\n",
      "y_train: (60000,)\n",
      "X_test (10000, 784)\n",
      "y_test (10000,)\n",
      "\n"
     ]
    }
   ],
   "source": [
    "X_train, y_train, X_test, y_test = get_mnist('MNIST')\n",
    "\n",
    "print('MNIST data loaded: train:',len(X_train),'test:',len(X_test))\n",
    "print('X_train:', X_train.shape)\n",
    "print('y_train:', y_train.shape)\n",
    "print('X_test', X_test.shape)\n",
    "print('y_test', y_test.shape)\n",
    "print(\"\")"
   ]
  },
  {
   "cell_type": "markdown",
   "metadata": {},
   "source": [
    "The training data (`X_train`) is a matrix of size (60000, 784), i.e. it consists of 60000 digits expressed as 784 sized vectors (28x28 images flattened to 1D). `y_train` is a 60000-dimensional vector containing the correct classes (\"0\", \"1\", ..., \"9\") for each training digit."
   ]
  },
  {
   "cell_type": "markdown",
   "metadata": {},
   "source": [
    "### Pienennetään datasetit, jotta ohjelma toimisi nopeammin. Kommentoi pois jos haluat ajaa kokonaisella datalla."
   ]
  },
  {
   "cell_type": "code",
   "execution_count": 3,
   "metadata": {},
   "outputs": [
    {
     "name": "stdout",
     "output_type": "stream",
     "text": [
      "SMALLER DATASETS\n",
      "X_train: (6000, 784)\n",
      "y_train: (6000,)\n",
      "X_test (1000, 784)\n",
      "y_test (1000,)\n"
     ]
    }
   ],
   "source": [
    "# Pienennetään datasetit.\n",
    "X_train = X_train[:6000,:]\n",
    "y_train = y_train[:6000]\n",
    "X_test = X_test[:1000,:]\n",
    "y_test = y_test[:1000]\n",
    "\n",
    "print(\"SMALLER DATASETS\")\n",
    "print('X_train:', X_train.shape)\n",
    "print('y_train:', y_train.shape)\n",
    "print('X_test', X_test.shape)\n",
    "print('y_test', y_test.shape)"
   ]
  },
  {
   "cell_type": "markdown",
   "metadata": {},
   "source": [
    "## 2. Tehdään yleiskäyttöinen luokka\n",
    "Tee luokittelua MNIST-datasetille niin, että käytät siinä eri yhdistelmätekniikoita (Voting, Stacking, Bagging ja Boosting). Minkälaisella kokoonpanolla saadaan paras tulos?\n",
    "Refaktoroi koodia niin, että teet yleiskäyttöisen luokan luokittelu ongelmien ratkaisemiseen, joka käyttää yhdistelmätekniikoita luokittelun toteuttamisessa."
   ]
  },
  {
   "cell_type": "code",
   "execution_count": 4,
   "metadata": {},
   "outputs": [],
   "source": [
    "# Kaiken maailman importit\n",
    "from sklearn.linear_model import SGDClassifier\n",
    "from sklearn.tree import DecisionTreeClassifier\n",
    "from sklearn.naive_bayes import BernoulliNB\n",
    "from sklearn.ensemble import VotingClassifier  \n",
    "from sklearn.svm import SVC\n",
    "from sklearn.ensemble import StackingClassifier\n",
    "from sklearn.linear_model import LogisticRegression\n",
    "from sklearn.preprocessing import StandardScaler\n",
    "from sklearn.pipeline import make_pipeline\n",
    "from sklearn.ensemble import RandomForestClassifier\n",
    "from sklearn.svm import LinearSVC\n",
    "from sklearn.ensemble import BaggingClassifier\n",
    "from sklearn.ensemble import AdaBoostClassifier\n",
    "\n",
    "from timeit import default_timer as timer\n",
    "import warnings\n",
    "warnings.filterwarnings('ignore')\n",
    "\n",
    "import matplotlib.pyplot as plt\n",
    "import seaborn as sns\n",
    "sns.set()\n",
    "\n",
    "from sklearn.metrics import accuracy_score, confusion_matrix, classification_report\n",
    "\n",
    "# Luokittelijoiden määrittelyt\n",
    "clf_sgd = SGDClassifier()\n",
    "clf_dt = DecisionTreeClassifier()\n",
    "clf_bnb = BernoulliNB(binarize=128.)\n",
    "\n",
    "\n",
    "# Luokittelijaluokka\n",
    "class ultimateClf: \n",
    "    # Init\n",
    "    def __init__(self, X_train, y_train, X_test, y_test):\n",
    "        self.X_train = X_train\n",
    "        self.y_train = y_train\n",
    "        self.X_test = X_test\n",
    "        self.y_test = y_test\n",
    "        self.pred_vote = None\n",
    "        self.pred_stacking = None\n",
    "        \n",
    "    # VOTING CLASSIFIER\n",
    "    def votingClf(self):           \n",
    "        # Nimi\n",
    "        name = \"votingClf\"\n",
    "        \n",
    "        # Ajastin päälle\n",
    "        start = timer()\n",
    "        \n",
    "        # Parametrit\n",
    "        estimators = [('sgd',clf_sgd),('dt', clf_dt),('bnb', clf_bnb)]\n",
    "        voting = \"hard\"       \n",
    "        \n",
    "        # Äänestyslajittelijan määrittely\n",
    "        clf_vote = VotingClassifier(estimators=estimators,\n",
    "                            voting=voting)\n",
    "        \n",
    "        # Mallin sovitus\n",
    "        clf_vote.fit(self.X_train, self.y_train)\n",
    "        \n",
    "        # Ennuste\n",
    "        self.pred_vote = clf_vote.predict(self.X_test)\n",
    "        \n",
    "        # Ajastin kiinni\n",
    "        end = timer()\n",
    "                \n",
    "            \n",
    "        # Palautetaan luokittelijan nimi, ennuste ja kulunut aika\n",
    "        return name, self.pred_vote, round(end-start, 2)\n",
    " \n",
    "\n",
    "    # STACKING CLASSIFIER\n",
    "    def stackingClf(self):\n",
    "        # Nimi\n",
    "        name = \"stackingClf\"\n",
    "               \n",
    "        # Ajastin päälle\n",
    "        start = timer()\n",
    "        \n",
    "        # Parametrit\n",
    "        estimators = [('sgd',clf_sgd),('dt', clf_dt),('bnb', clf_bnb)]\n",
    "        \n",
    "        # Stacking-lajittelijan määrittely\n",
    "        clf_stacking = StackingClassifier(\n",
    "            estimators=estimators, final_estimator=LogisticRegression())\n",
    "        \n",
    "        # Mallin sovitus\n",
    "        clf_stacking.fit(self.X_train,self.y_train)\n",
    "        \n",
    "        # Ennuste\n",
    "        pred_stacking = clf_stacking.predict(self.X_test)\n",
    "                       \n",
    "        # Ajastin kiinni\n",
    "        end = timer()\n",
    "        \n",
    "        # Palautetaan luokittelijan nimi, ennuste ja kulunut aika\n",
    "        return name, pred_stacking, round(end-start, 2)\n",
    "    \n",
    "    \n",
    "    # BAGGING CLASSIFIER\n",
    "    def baggingClf(self):\n",
    "        # Nimi\n",
    "        name = \"baggingClf\"\n",
    "               \n",
    "        # Ajastin päälle\n",
    "        start = timer()\n",
    "        \n",
    "        # Bagging-lajittelijan määrittely\n",
    "        clf_bagging = BaggingClassifier(base_estimator=SVC(),\n",
    "                        n_estimators=10, random_state=0)\n",
    "        \n",
    "        # Mallin sovitus\n",
    "        clf_bagging.fit(self.X_train,self.y_train)\n",
    "        \n",
    "        # Ennuste\n",
    "        pred_bagging = clf_bagging.predict(self.X_test)\n",
    "                       \n",
    "        # Ajastin kiinni\n",
    "        end = timer()\n",
    "        \n",
    "        # Palautetaan luokittelijan nimi, ennuste ja kulunut aika\n",
    "        return name, pred_bagging, round(end-start, 2)\n",
    "    \n",
    "    \n",
    "    # ADABOOST CLASSIFIER\n",
    "    def adaboostClf(self):\n",
    "        # Nimi\n",
    "        name = \"adaboostClf\"\n",
    "               \n",
    "        # Ajastin päälle\n",
    "        start = timer()\n",
    "        \n",
    "                \n",
    "        # Adaboost-lajittelijan määrittely\n",
    "        clf_adaboost = AdaBoostClassifier(n_estimators=100, random_state=0)\n",
    "        \n",
    "        # Mallin sovitus\n",
    "        clf_adaboost.fit(self.X_train,self.y_train)\n",
    "        \n",
    "        # Ennuste\n",
    "        pred_adaboost = clf_adaboost.predict(self.X_test)\n",
    "                       \n",
    "        # Ajastin kiinni\n",
    "        end = timer()\n",
    "        \n",
    "        # Palautetaan luokittelijan nimi, ennuste ja kulunut aika\n",
    "        return name, pred_adaboost, round(end-start, 2)\n",
    "    \n",
    "    \n",
    "\n",
    "    \n",
    "        \n",
    "        \n",
    "    "
   ]
  },
  {
   "cell_type": "markdown",
   "metadata": {},
   "source": [
    "## 3. Luokittelut"
   ]
  },
  {
   "cell_type": "code",
   "execution_count": 5,
   "metadata": {},
   "outputs": [],
   "source": [
    "# Annetaan ultimateClassifierille datat\n",
    "ucf = ultimateClf(X_train, y_train, X_test, y_test)"
   ]
  },
  {
   "cell_type": "markdown",
   "metadata": {},
   "source": [
    "### Luodaan lista johon kerätään:\n",
    " - luokittelijan nimi\n",
    " - tarkkuus eli accuracy score\n",
    " - mallin sovitukseen ja ennustukseen kulunut aika"
   ]
  },
  {
   "cell_type": "code",
   "execution_count": 6,
   "metadata": {},
   "outputs": [],
   "source": [
    "lista = []"
   ]
  },
  {
   "cell_type": "markdown",
   "metadata": {},
   "source": [
    "### VotingClassifier"
   ]
  },
  {
   "cell_type": "code",
   "execution_count": 7,
   "metadata": {},
   "outputs": [],
   "source": [
    "name, pred, time = ucf.votingClf()\n",
    "\n",
    "malli = [name,accuracy_score(ucf.y_test, pred),time]\n",
    "\n",
    "lista.append(malli)"
   ]
  },
  {
   "cell_type": "markdown",
   "metadata": {},
   "source": [
    "### StackingClassifier"
   ]
  },
  {
   "cell_type": "code",
   "execution_count": 8,
   "metadata": {},
   "outputs": [],
   "source": [
    "name, pred, time = ucf.stackingClf()\n",
    "\n",
    "malli = [name,accuracy_score(ucf.y_test, pred),time]\n",
    "\n",
    "lista.append(malli)"
   ]
  },
  {
   "cell_type": "markdown",
   "metadata": {},
   "source": [
    "### BaggingClassifier"
   ]
  },
  {
   "cell_type": "code",
   "execution_count": 9,
   "metadata": {},
   "outputs": [],
   "source": [
    "name, pred, time = ucf.baggingClf()\n",
    "\n",
    "malli = [name,accuracy_score(ucf.y_test, pred),time]\n",
    "\n",
    "lista.append(malli)"
   ]
  },
  {
   "cell_type": "markdown",
   "metadata": {},
   "source": [
    "### AdaBoostClassifier"
   ]
  },
  {
   "cell_type": "code",
   "execution_count": 10,
   "metadata": {},
   "outputs": [],
   "source": [
    "name, pred, time = ucf.adaboostClf()\n",
    "\n",
    "malli = [name,accuracy_score(ucf.y_test, pred),time]\n",
    "\n",
    "lista.append(malli)"
   ]
  },
  {
   "cell_type": "markdown",
   "metadata": {},
   "source": [
    "## 4. Laitetaan saadut arvot Pandasin dataframeen"
   ]
  },
  {
   "cell_type": "code",
   "execution_count": 11,
   "metadata": {},
   "outputs": [],
   "source": [
    "import pandas as pd\n",
    "\n",
    "df = pd.DataFrame(data=lista)\n",
    "df = df.rename(columns={0: 'luokittelija', 1: 'tarkkuus', 2: 'aika (s)'})"
   ]
  },
  {
   "cell_type": "markdown",
   "metadata": {},
   "source": [
    "### Järjestettynä tarkkuuden mukaan\n",
    "Tarkin ennuste ylimpänä"
   ]
  },
  {
   "cell_type": "code",
   "execution_count": 12,
   "metadata": {},
   "outputs": [
    {
     "data": {
      "text/html": [
       "<div>\n",
       "<style scoped>\n",
       "    .dataframe tbody tr th:only-of-type {\n",
       "        vertical-align: middle;\n",
       "    }\n",
       "\n",
       "    .dataframe tbody tr th {\n",
       "        vertical-align: top;\n",
       "    }\n",
       "\n",
       "    .dataframe thead th {\n",
       "        text-align: right;\n",
       "    }\n",
       "</style>\n",
       "<table border=\"1\" class=\"dataframe\">\n",
       "  <thead>\n",
       "    <tr style=\"text-align: right;\">\n",
       "      <th></th>\n",
       "      <th>luokittelija</th>\n",
       "      <th>tarkkuus</th>\n",
       "      <th>aika (s)</th>\n",
       "    </tr>\n",
       "  </thead>\n",
       "  <tbody>\n",
       "    <tr>\n",
       "      <th>2</th>\n",
       "      <td>baggingClf</td>\n",
       "      <td>0.936</td>\n",
       "      <td>89.69</td>\n",
       "    </tr>\n",
       "    <tr>\n",
       "      <th>0</th>\n",
       "      <td>votingClf</td>\n",
       "      <td>0.862</td>\n",
       "      <td>7.57</td>\n",
       "    </tr>\n",
       "    <tr>\n",
       "      <th>1</th>\n",
       "      <td>stackingClf</td>\n",
       "      <td>0.845</td>\n",
       "      <td>32.95</td>\n",
       "    </tr>\n",
       "    <tr>\n",
       "      <th>3</th>\n",
       "      <td>adaboostClf</td>\n",
       "      <td>0.472</td>\n",
       "      <td>23.02</td>\n",
       "    </tr>\n",
       "  </tbody>\n",
       "</table>\n",
       "</div>"
      ],
      "text/plain": [
       "  luokittelija  tarkkuus  aika (s)\n",
       "2   baggingClf     0.936     89.69\n",
       "0    votingClf     0.862      7.57\n",
       "1  stackingClf     0.845     32.95\n",
       "3  adaboostClf     0.472     23.02"
      ]
     },
     "execution_count": 12,
     "metadata": {},
     "output_type": "execute_result"
    }
   ],
   "source": [
    "df = df.sort_values(by=['tarkkuus'], ascending=False)\n",
    "df"
   ]
  },
  {
   "cell_type": "markdown",
   "metadata": {},
   "source": [
    "### Järjestettynä kuluneen ajan mukaan\n",
    "Pienin aika ylimpänä"
   ]
  },
  {
   "cell_type": "code",
   "execution_count": 13,
   "metadata": {},
   "outputs": [
    {
     "data": {
      "text/html": [
       "<div>\n",
       "<style scoped>\n",
       "    .dataframe tbody tr th:only-of-type {\n",
       "        vertical-align: middle;\n",
       "    }\n",
       "\n",
       "    .dataframe tbody tr th {\n",
       "        vertical-align: top;\n",
       "    }\n",
       "\n",
       "    .dataframe thead th {\n",
       "        text-align: right;\n",
       "    }\n",
       "</style>\n",
       "<table border=\"1\" class=\"dataframe\">\n",
       "  <thead>\n",
       "    <tr style=\"text-align: right;\">\n",
       "      <th></th>\n",
       "      <th>luokittelija</th>\n",
       "      <th>tarkkuus</th>\n",
       "      <th>aika (s)</th>\n",
       "    </tr>\n",
       "  </thead>\n",
       "  <tbody>\n",
       "    <tr>\n",
       "      <th>0</th>\n",
       "      <td>votingClf</td>\n",
       "      <td>0.862</td>\n",
       "      <td>7.57</td>\n",
       "    </tr>\n",
       "    <tr>\n",
       "      <th>3</th>\n",
       "      <td>adaboostClf</td>\n",
       "      <td>0.472</td>\n",
       "      <td>23.02</td>\n",
       "    </tr>\n",
       "    <tr>\n",
       "      <th>1</th>\n",
       "      <td>stackingClf</td>\n",
       "      <td>0.845</td>\n",
       "      <td>32.95</td>\n",
       "    </tr>\n",
       "    <tr>\n",
       "      <th>2</th>\n",
       "      <td>baggingClf</td>\n",
       "      <td>0.936</td>\n",
       "      <td>89.69</td>\n",
       "    </tr>\n",
       "  </tbody>\n",
       "</table>\n",
       "</div>"
      ],
      "text/plain": [
       "  luokittelija  tarkkuus  aika (s)\n",
       "0    votingClf     0.862      7.57\n",
       "3  adaboostClf     0.472     23.02\n",
       "1  stackingClf     0.845     32.95\n",
       "2   baggingClf     0.936     89.69"
      ]
     },
     "execution_count": 13,
     "metadata": {},
     "output_type": "execute_result"
    }
   ],
   "source": [
    "df = df.sort_values(by=['aika (s)'])\n",
    "df"
   ]
  },
  {
   "cell_type": "markdown",
   "metadata": {},
   "source": [
    "## 5. Plotataan luokittelijat"
   ]
  },
  {
   "cell_type": "code",
   "execution_count": 14,
   "metadata": {},
   "outputs": [
    {
     "data": {
      "text/plain": [
       "Text(0, 0.5, 'aika (s)')"
      ]
     },
     "execution_count": 14,
     "metadata": {},
     "output_type": "execute_result"
    },
    {
     "data": {
      "image/png": "[encoded data removed]",
      "text/plain": [
       "<Figure size 432x288 with 1 Axes>"
      ]
     },
     "metadata": {},
     "output_type": "display_data"
    }
   ],
   "source": [
    "for i in range (0, len(df)):\n",
    "    plt.scatter(df['tarkkuus'].iloc[i],df['aika (s)'].iloc[i], label=df['luokittelija'].iloc[i])\n",
    "    \n",
    "plt.title('Luokittelijat')\n",
    "plt.legend()\n",
    "plt.xlim(0, 1);\n",
    "plt.xlabel('tarkkuus')\n",
    "plt.ylabel('aika (s)')"
   ]
  }
 ],
 "metadata": {
  "kernelspec": {
   "display_name": "Python 3",
   "language": "python",
   "name": "python3"
  },
  "language_info": {
   "codemirror_mode": {
    "name": "ipython",
    "version": 3
   },
   "file_extension": ".py",
   "mimetype": "text/x-python",
   "name": "python",
   "nbconvert_exporter": "python",
   "pygments_lexer": "ipython3",
   "version": "3.7.6"
  }
 },
 "nbformat": 4,
 "nbformat_minor": 4
}
