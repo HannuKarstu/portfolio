{
 "cells": [
  {
   "cell_type": "markdown",
   "metadata": {},
   "source": [
    "Yhdistelmätekniikat\n",
    "===\n",
    "# Tehtävä 2 - Regressio\n",
    "Hannu Karstu - TTV19SAI\n",
    "\n",
    "## Tehtävänanto\n",
    "\n",
    "Lisää tekemääsi lineaarisen regression tehtävään yhdistelmätekniikoita käyttävä regressio (Averaging, Stacking, Bagging ja Boosting). Minkälaisella kokoonpanolla saadaan paras tulos?\n",
    "Refaktoroi koodia niin, että teet yleiskäyttöisen luokan regressio ongelmien ratkaisemiseen, joka käyttää yhdistelmätekniikoita regression toteuttamisessa.\n"
   ]
  },
  {
   "cell_type": "markdown",
   "metadata": {},
   "source": [
    "## 1. Ladataan ja jaetaan data treeni- ja testiaineistoiksi"
   ]
  },
  {
   "cell_type": "code",
   "execution_count": 1,
   "metadata": {},
   "outputs": [],
   "source": [
    "import numpy as np\n",
    "import matplotlib.pyplot as plt \n",
    "\n",
    "import pandas as pd  \n",
    "import seaborn as sns \n",
    "\n",
    "%matplotlib inline"
   ]
  },
  {
   "cell_type": "code",
   "execution_count": 2,
   "metadata": {},
   "outputs": [],
   "source": [
    "from sklearn.datasets import load_boston\n",
    "boston_dataset = load_boston()"
   ]
  },
  {
   "cell_type": "code",
   "execution_count": 3,
   "metadata": {},
   "outputs": [
    {
     "data": {
      "text/html": [
       "<div>\n",
       "<style scoped>\n",
       "    .dataframe tbody tr th:only-of-type {\n",
       "        vertical-align: middle;\n",
       "    }\n",
       "\n",
       "    .dataframe tbody tr th {\n",
       "        vertical-align: top;\n",
       "    }\n",
       "\n",
       "    .dataframe thead th {\n",
       "        text-align: right;\n",
       "    }\n",
       "</style>\n",
       "<table border=\"1\" class=\"dataframe\">\n",
       "  <thead>\n",
       "    <tr style=\"text-align: right;\">\n",
       "      <th></th>\n",
       "      <th>CRIM</th>\n",
       "      <th>ZN</th>\n",
       "      <th>INDUS</th>\n",
       "      <th>CHAS</th>\n",
       "      <th>NOX</th>\n",
       "      <th>RM</th>\n",
       "      <th>AGE</th>\n",
       "      <th>DIS</th>\n",
       "      <th>RAD</th>\n",
       "      <th>TAX</th>\n",
       "      <th>PTRATIO</th>\n",
       "      <th>B</th>\n",
       "      <th>LSTAT</th>\n",
       "    </tr>\n",
       "  </thead>\n",
       "  <tbody>\n",
       "    <tr>\n",
       "      <th>0</th>\n",
       "      <td>0.00632</td>\n",
       "      <td>18.0</td>\n",
       "      <td>2.31</td>\n",
       "      <td>0.0</td>\n",
       "      <td>0.538</td>\n",
       "      <td>6.575</td>\n",
       "      <td>65.2</td>\n",
       "      <td>4.0900</td>\n",
       "      <td>1.0</td>\n",
       "      <td>296.0</td>\n",
       "      <td>15.3</td>\n",
       "      <td>396.90</td>\n",
       "      <td>4.98</td>\n",
       "    </tr>\n",
       "    <tr>\n",
       "      <th>1</th>\n",
       "      <td>0.02731</td>\n",
       "      <td>0.0</td>\n",
       "      <td>7.07</td>\n",
       "      <td>0.0</td>\n",
       "      <td>0.469</td>\n",
       "      <td>6.421</td>\n",
       "      <td>78.9</td>\n",
       "      <td>4.9671</td>\n",
       "      <td>2.0</td>\n",
       "      <td>242.0</td>\n",
       "      <td>17.8</td>\n",
       "      <td>396.90</td>\n",
       "      <td>9.14</td>\n",
       "    </tr>\n",
       "    <tr>\n",
       "      <th>2</th>\n",
       "      <td>0.02729</td>\n",
       "      <td>0.0</td>\n",
       "      <td>7.07</td>\n",
       "      <td>0.0</td>\n",
       "      <td>0.469</td>\n",
       "      <td>7.185</td>\n",
       "      <td>61.1</td>\n",
       "      <td>4.9671</td>\n",
       "      <td>2.0</td>\n",
       "      <td>242.0</td>\n",
       "      <td>17.8</td>\n",
       "      <td>392.83</td>\n",
       "      <td>4.03</td>\n",
       "    </tr>\n",
       "    <tr>\n",
       "      <th>3</th>\n",
       "      <td>0.03237</td>\n",
       "      <td>0.0</td>\n",
       "      <td>2.18</td>\n",
       "      <td>0.0</td>\n",
       "      <td>0.458</td>\n",
       "      <td>6.998</td>\n",
       "      <td>45.8</td>\n",
       "      <td>6.0622</td>\n",
       "      <td>3.0</td>\n",
       "      <td>222.0</td>\n",
       "      <td>18.7</td>\n",
       "      <td>394.63</td>\n",
       "      <td>2.94</td>\n",
       "    </tr>\n",
       "    <tr>\n",
       "      <th>4</th>\n",
       "      <td>0.06905</td>\n",
       "      <td>0.0</td>\n",
       "      <td>2.18</td>\n",
       "      <td>0.0</td>\n",
       "      <td>0.458</td>\n",
       "      <td>7.147</td>\n",
       "      <td>54.2</td>\n",
       "      <td>6.0622</td>\n",
       "      <td>3.0</td>\n",
       "      <td>222.0</td>\n",
       "      <td>18.7</td>\n",
       "      <td>396.90</td>\n",
       "      <td>5.33</td>\n",
       "    </tr>\n",
       "  </tbody>\n",
       "</table>\n",
       "</div>"
      ],
      "text/plain": [
       "      CRIM    ZN  INDUS  CHAS    NOX     RM   AGE     DIS  RAD    TAX  \\\n",
       "0  0.00632  18.0   2.31   0.0  0.538  6.575  65.2  4.0900  1.0  296.0   \n",
       "1  0.02731   0.0   7.07   0.0  0.469  6.421  78.9  4.9671  2.0  242.0   \n",
       "2  0.02729   0.0   7.07   0.0  0.469  7.185  61.1  4.9671  2.0  242.0   \n",
       "3  0.03237   0.0   2.18   0.0  0.458  6.998  45.8  6.0622  3.0  222.0   \n",
       "4  0.06905   0.0   2.18   0.0  0.458  7.147  54.2  6.0622  3.0  222.0   \n",
       "\n",
       "   PTRATIO       B  LSTAT  \n",
       "0     15.3  396.90   4.98  \n",
       "1     17.8  396.90   9.14  \n",
       "2     17.8  392.83   4.03  \n",
       "3     18.7  394.63   2.94  \n",
       "4     18.7  396.90   5.33  "
      ]
     },
     "execution_count": 3,
     "metadata": {},
     "output_type": "execute_result"
    }
   ],
   "source": [
    "boston = pd.DataFrame(boston_dataset.data, columns=boston_dataset.feature_names)\n",
    "boston.head()"
   ]
  },
  {
   "cell_type": "code",
   "execution_count": 4,
   "metadata": {},
   "outputs": [],
   "source": [
    "boston['MEDV'] = boston_dataset.target"
   ]
  },
  {
   "cell_type": "code",
   "execution_count": 5,
   "metadata": {},
   "outputs": [],
   "source": [
    "X = pd.DataFrame(np.c_[boston['LSTAT'], boston['RM']], columns = ['LSTAT','RM'])\n",
    "Y = boston['MEDV']"
   ]
  },
  {
   "cell_type": "code",
   "execution_count": 6,
   "metadata": {},
   "outputs": [
    {
     "name": "stdout",
     "output_type": "stream",
     "text": [
      "(404, 2)\n",
      "(102, 2)\n",
      "(404,)\n",
      "(102,)\n"
     ]
    }
   ],
   "source": [
    "from sklearn.model_selection import train_test_split\n",
    "\n",
    "X_train, X_test, y_train, y_test = train_test_split(X, Y, test_size = 0.2, random_state=5)\n",
    "print(X_train.shape)\n",
    "print(X_test.shape)\n",
    "print(y_train.shape)\n",
    "print(y_test.shape)"
   ]
  },
  {
   "cell_type": "markdown",
   "metadata": {},
   "source": [
    "## 2. Tehdään yleiskäyttöinen luokka"
   ]
  },
  {
   "cell_type": "code",
   "execution_count": 7,
   "metadata": {},
   "outputs": [],
   "source": [
    "# Kaiken maailman importit\n",
    "from sklearn.metrics import accuracy_score, confusion_matrix, classification_report\n",
    "\n",
    "from sklearn.svm import SVC\n",
    "from sklearn.preprocessing import StandardScaler\n",
    "from sklearn.naive_bayes import BernoulliNB\n",
    "from sklearn.linear_model import LinearRegression\n",
    "from sklearn.ensemble import RandomForestRegressor\n",
    "from sklearn.ensemble import VotingRegressor\n",
    "from sklearn.linear_model import RidgeCV\n",
    "from sklearn.svm import LinearSVR\n",
    "from sklearn.ensemble import RandomForestRegressor\n",
    "from sklearn.ensemble import StackingRegressor\n",
    "from sklearn.svm import SVR\n",
    "from sklearn.ensemble import BaggingRegressor\n",
    "from sklearn.ensemble import AdaBoostRegressor\n",
    "from sklearn.pipeline import make_pipeline\n",
    "from timeit import default_timer as timer\n",
    "from sklearn.tree import DecisionTreeRegressor\n",
    "from sklearn.neighbors import KNeighborsRegressor\n",
    "from sklearn.linear_model import LogisticRegression\n",
    "from sklearn.linear_model import LinearRegression\n",
    "import warnings\n",
    "warnings.filterwarnings('ignore')\n",
    "import matplotlib.pyplot as plt\n",
    "import seaborn as sns\n",
    "sns.set()\n",
    "\n",
    "# Luokittelijoiden määrittelyt\n",
    "lin_reg = LinearRegression()\n",
    "rf_reg = RandomForestRegressor(n_estimators=10, random_state=1)\n",
    "\n",
    "\n",
    "# Regressoriluokka\n",
    "class ultimateReg: \n",
    "    # Init\n",
    "    def __init__(self, X_train, y_train, X_test, y_test):\n",
    "        self.X_train = X_train\n",
    "        self.y_train = y_train\n",
    "        self.X_test = X_test\n",
    "        self.y_test = y_test\n",
    "        self.pred_vote = None\n",
    "        self.pred_stacking = None\n",
    "        \n",
    "    # AVERAGING REGRESSOR\n",
    "    def averagingReg(self):           \n",
    "        # Nimi\n",
    "        name = \"averagingReg\"\n",
    "        \n",
    "        # Ajastin päälle\n",
    "        start = timer()     \n",
    "        \n",
    "        # Average regression määrittely\n",
    "        #clf_avg = VotingRegressor([('lr', lin_reg), ('rf', rf_reg)])\n",
    "        \n",
    "        # Mallien sovitus\n",
    "        model1 = DecisionTreeRegressor()\n",
    "        model2 = KNeighborsRegressor()\n",
    "        model3 = LinearRegression()\n",
    "        \n",
    "        model1.fit(self.X_train, self.y_train)\n",
    "        model2.fit(self.X_train, self.y_train)\n",
    "        model3.fit(self.X_train, self.y_train)    \n",
    "        \n",
    "        # Ennuste\n",
    "        pred1 = model1.predict(self.X_test)\n",
    "        pred2 = model2.predict(self.X_test)\n",
    "        pred3 = model3.predict(self.X_test)\n",
    "        \n",
    "        finalpred = (pred1+pred2+pred3)/3\n",
    "        \n",
    "        # Ajastin kiinni\n",
    "        end = timer()\n",
    "                \n",
    "        # Palautetaan luokittelijan nimi, ennuste ja kulunut aika\n",
    "        return name, finalpred, round(end-start, 2)    \n",
    "        \n",
    "    # VOTING REGRESSOR\n",
    "    def votingReg(self):           \n",
    "        # Nimi\n",
    "        name = \"votingReg\"\n",
    "        \n",
    "        # Ajastin päälle\n",
    "        start = timer()     \n",
    "        \n",
    "        # Äänestysregression määrittely\n",
    "        clf_vote = VotingRegressor([('lr', lin_reg), ('rf', rf_reg)])\n",
    "        \n",
    "        # Mallin sovitus\n",
    "        clf_vote.fit(self.X_train, self.y_train)\n",
    "        \n",
    "        # Ennuste\n",
    "        self.pred_vote = clf_vote.predict(self.X_test)\n",
    "        \n",
    "        # Ajastin kiinni\n",
    "        end = timer()\n",
    "                \n",
    "            \n",
    "        # Palautetaan luokittelijan nimi, ennuste ja kulunut aika\n",
    "        return name, self.pred_vote, round(end-start, 2)\n",
    " \n",
    "\n",
    "    # STACKING REGRESSOR\n",
    "    def stackingReg(self):\n",
    "        # Nimi\n",
    "        name = \"stackingReg\"\n",
    "               \n",
    "        # Ajastin päälle\n",
    "        start = timer()\n",
    "        \n",
    "        # Parametrit\n",
    "        estimators = [\n",
    "            ('lr', RidgeCV()),\n",
    "            ('svr', LinearSVR(random_state=42))]\n",
    "\n",
    "        # Stacking-regressorin määrittely\n",
    "        clf_stacking = StackingRegressor(\n",
    "            estimators=estimators,\n",
    "            final_estimator=RandomForestRegressor(n_estimators=10,\n",
    "                                                  random_state=42))\n",
    "        \n",
    "        # Mallin sovitus\n",
    "        clf_stacking.fit(self.X_train,self.y_train)\n",
    "        \n",
    "        # Ennuste\n",
    "        pred_stacking = clf_stacking.predict(self.X_test)\n",
    "                       \n",
    "        # Ajastin kiinni\n",
    "        end = timer()\n",
    "        \n",
    "        # Palautetaan luokittelijan nimi, ennuste ja kulunut aika\n",
    "        return name, pred_stacking, round(end-start, 2)\n",
    "    \n",
    "    \n",
    "    # BAGGING REGRESSOR\n",
    "    def baggingReg(self):\n",
    "        # Nimi\n",
    "        name = \"baggingReg\"\n",
    "               \n",
    "        # Ajastin päälle\n",
    "        start = timer()\n",
    "        \n",
    "        # Bagging-lajittelijan määrittely\n",
    "        clf_bagging = BaggingRegressor(base_estimator=SVR(),\n",
    "                        n_estimators=10, random_state=0)\n",
    "        \n",
    "        # Mallin sovitus\n",
    "        clf_bagging.fit(self.X_train,self.y_train)\n",
    "        \n",
    "        # Ennuste\n",
    "        pred_bagging = clf_bagging.predict(self.X_test)\n",
    "                       \n",
    "        # Ajastin kiinni\n",
    "        end = timer()\n",
    "        \n",
    "        # Palautetaan luokittelijan nimi, ennuste ja kulunut aika\n",
    "        return name, pred_bagging, round(end-start, 2)\n",
    "    \n",
    "    \n",
    "    # ADABOOST REGRESSOR\n",
    "    def adaboostReg(self):\n",
    "        # Nimi\n",
    "        name = \"adaboostReg\"\n",
    "               \n",
    "        # Ajastin päälle\n",
    "        start = timer()\n",
    "        \n",
    "                \n",
    "        # Adaboost-lajittelijan määrittely\n",
    "        clf_adaboost = AdaBoostRegressor(random_state=0, n_estimators=100)\n",
    "        \n",
    "        # Mallin sovitus\n",
    "        clf_adaboost.fit(self.X_train,self.y_train)\n",
    "        \n",
    "        # Ennuste\n",
    "        pred_adaboost = clf_adaboost.predict(self.X_test)\n",
    "                       \n",
    "        # Ajastin kiinni\n",
    "        end = timer()\n",
    "        \n",
    "        # Palautetaan luokittelijan nimi, ennuste ja kulunut aika\n",
    "        return name, pred_adaboost, round(end-start, 2)"
   ]
  },
  {
   "cell_type": "markdown",
   "metadata": {},
   "source": [
    "## 3. Luokittelut"
   ]
  },
  {
   "cell_type": "code",
   "execution_count": 8,
   "metadata": {},
   "outputs": [],
   "source": [
    "# Annetaan ultimateClassifierille datat\n",
    "ucf = ultimateReg(X_train, y_train, X_test, y_test)"
   ]
  },
  {
   "cell_type": "markdown",
   "metadata": {},
   "source": [
    "### Luodaan lista johon kerätään:\n",
    " - luokittelijan nimi\n",
    " - rmse\n",
    " - r2\n",
    " - mallin sovitukseen ja ennustukseen kulunut aika"
   ]
  },
  {
   "cell_type": "code",
   "execution_count": 9,
   "metadata": {},
   "outputs": [],
   "source": [
    "from sklearn.metrics import mean_squared_error, r2_score\n",
    "\n",
    "lista = []"
   ]
  },
  {
   "cell_type": "markdown",
   "metadata": {},
   "source": [
    "### Averaging Regressor"
   ]
  },
  {
   "cell_type": "code",
   "execution_count": 10,
   "metadata": {},
   "outputs": [
    {
     "name": "stdout",
     "output_type": "stream",
     "text": [
      "['averagingReg', 4.283085228875125, 0.765692775419203, 0.01]\n"
     ]
    }
   ],
   "source": [
    "name, pred, time = ucf.averagingReg()\n",
    "\n",
    "rmse = (np.sqrt(mean_squared_error(ucf.y_test, pred)))\n",
    "r2 = r2_score(ucf.y_test, pred)\n",
    "\n",
    "malli = [name,rmse,r2,time]\n",
    "\n",
    "lista.append(malli)\n",
    "print(malli)"
   ]
  },
  {
   "cell_type": "markdown",
   "metadata": {},
   "source": [
    "### Voting Regressor"
   ]
  },
  {
   "cell_type": "code",
   "execution_count": 11,
   "metadata": {},
   "outputs": [
    {
     "name": "stdout",
     "output_type": "stream",
     "text": [
      "['votingReg', 4.190964267301935, 0.7756633848797534, 0.03]\n"
     ]
    }
   ],
   "source": [
    "name, pred, time = ucf.votingReg()\n",
    "\n",
    "rmse = (np.sqrt(mean_squared_error(ucf.y_test, pred)))\n",
    "r2 = r2_score(ucf.y_test, pred)\n",
    "\n",
    "malli = [name,rmse,r2,time]\n",
    "\n",
    "lista.append(malli)\n",
    "print(malli)"
   ]
  },
  {
   "cell_type": "markdown",
   "metadata": {},
   "source": [
    "### Stacking Regressor"
   ]
  },
  {
   "cell_type": "code",
   "execution_count": 12,
   "metadata": {},
   "outputs": [
    {
     "name": "stdout",
     "output_type": "stream",
     "text": [
      "['stackingReg', 4.6785684713570745, 0.7204250689944274, 0.09]\n"
     ]
    }
   ],
   "source": [
    "name, pred, time = ucf.stackingReg()\n",
    "\n",
    "rmse = (np.sqrt(mean_squared_error(ucf.y_test, pred)))\n",
    "r2 = r2_score(ucf.y_test, pred)\n",
    "\n",
    "malli = [name,rmse,r2,time]\n",
    "\n",
    "lista.append(malli)\n",
    "print(malli)"
   ]
  },
  {
   "cell_type": "markdown",
   "metadata": {},
   "source": [
    "### Bagging Regressor"
   ]
  },
  {
   "cell_type": "code",
   "execution_count": 13,
   "metadata": {},
   "outputs": [
    {
     "name": "stdout",
     "output_type": "stream",
     "text": [
      "['baggingReg', 5.298401875929541, 0.6414398355398176, 0.06]\n"
     ]
    }
   ],
   "source": [
    "name, pred, time = ucf.baggingReg()\n",
    "\n",
    "rmse = (np.sqrt(mean_squared_error(ucf.y_test, pred)))\n",
    "r2 = r2_score(ucf.y_test, pred)\n",
    "\n",
    "malli = [name,rmse,r2,time]\n",
    "\n",
    "lista.append(malli)\n",
    "print(malli)"
   ]
  },
  {
   "cell_type": "markdown",
   "metadata": {},
   "source": [
    "### AdaBoost Regressor"
   ]
  },
  {
   "cell_type": "code",
   "execution_count": 14,
   "metadata": {},
   "outputs": [
    {
     "name": "stdout",
     "output_type": "stream",
     "text": [
      "['adaboostReg', 4.712045345429577, 0.7164098325345304, 0.03]\n"
     ]
    }
   ],
   "source": [
    "name, pred, time = ucf.adaboostReg()\n",
    "\n",
    "rmse = (np.sqrt(mean_squared_error(ucf.y_test, pred)))\n",
    "r2 = r2_score(ucf.y_test, pred)\n",
    "\n",
    "malli = [name,rmse,r2,time]\n",
    "\n",
    "lista.append(malli)\n",
    "print(malli)"
   ]
  },
  {
   "cell_type": "markdown",
   "metadata": {},
   "source": [
    "## 4. Laitetaan saadut arvot Pandasin dataframeen"
   ]
  },
  {
   "cell_type": "code",
   "execution_count": 15,
   "metadata": {},
   "outputs": [],
   "source": [
    "import pandas as pd\n",
    "\n",
    "df = pd.DataFrame(data=lista)\n",
    "df = df.rename(columns={0: 'luokittelija', 1: 'rmse', 2: 'r2', 3: 'aika (s)'})"
   ]
  },
  {
   "cell_type": "markdown",
   "metadata": {},
   "source": [
    "### Järjestettynä r2 mukaan\n",
    "- R2 suurin = optimaalisin"
   ]
  },
  {
   "cell_type": "code",
   "execution_count": 16,
   "metadata": {},
   "outputs": [
    {
     "data": {
      "text/html": [
       "<div>\n",
       "<style scoped>\n",
       "    .dataframe tbody tr th:only-of-type {\n",
       "        vertical-align: middle;\n",
       "    }\n",
       "\n",
       "    .dataframe tbody tr th {\n",
       "        vertical-align: top;\n",
       "    }\n",
       "\n",
       "    .dataframe thead th {\n",
       "        text-align: right;\n",
       "    }\n",
       "</style>\n",
       "<table border=\"1\" class=\"dataframe\">\n",
       "  <thead>\n",
       "    <tr style=\"text-align: right;\">\n",
       "      <th></th>\n",
       "      <th>luokittelija</th>\n",
       "      <th>rmse</th>\n",
       "      <th>r2</th>\n",
       "      <th>aika (s)</th>\n",
       "    </tr>\n",
       "  </thead>\n",
       "  <tbody>\n",
       "    <tr>\n",
       "      <th>1</th>\n",
       "      <td>votingReg</td>\n",
       "      <td>4.190964</td>\n",
       "      <td>0.775663</td>\n",
       "      <td>0.03</td>\n",
       "    </tr>\n",
       "    <tr>\n",
       "      <th>0</th>\n",
       "      <td>averagingReg</td>\n",
       "      <td>4.283085</td>\n",
       "      <td>0.765693</td>\n",
       "      <td>0.01</td>\n",
       "    </tr>\n",
       "    <tr>\n",
       "      <th>2</th>\n",
       "      <td>stackingReg</td>\n",
       "      <td>4.678568</td>\n",
       "      <td>0.720425</td>\n",
       "      <td>0.09</td>\n",
       "    </tr>\n",
       "    <tr>\n",
       "      <th>4</th>\n",
       "      <td>adaboostReg</td>\n",
       "      <td>4.712045</td>\n",
       "      <td>0.716410</td>\n",
       "      <td>0.03</td>\n",
       "    </tr>\n",
       "    <tr>\n",
       "      <th>3</th>\n",
       "      <td>baggingReg</td>\n",
       "      <td>5.298402</td>\n",
       "      <td>0.641440</td>\n",
       "      <td>0.06</td>\n",
       "    </tr>\n",
       "  </tbody>\n",
       "</table>\n",
       "</div>"
      ],
      "text/plain": [
       "   luokittelija      rmse        r2  aika (s)\n",
       "1     votingReg  4.190964  0.775663      0.03\n",
       "0  averagingReg  4.283085  0.765693      0.01\n",
       "2   stackingReg  4.678568  0.720425      0.09\n",
       "4   adaboostReg  4.712045  0.716410      0.03\n",
       "3    baggingReg  5.298402  0.641440      0.06"
      ]
     },
     "execution_count": 16,
     "metadata": {},
     "output_type": "execute_result"
    }
   ],
   "source": [
    "df = df.sort_values(by=['r2'], ascending=False)\n",
    "df"
   ]
  },
  {
   "cell_type": "markdown",
   "metadata": {},
   "source": [
    "### Järjestettynä rmse mukaan\n",
    "- RMSE pienin = optimaalisin"
   ]
  },
  {
   "cell_type": "code",
   "execution_count": 17,
   "metadata": {},
   "outputs": [
    {
     "data": {
      "text/html": [
       "<div>\n",
       "<style scoped>\n",
       "    .dataframe tbody tr th:only-of-type {\n",
       "        vertical-align: middle;\n",
       "    }\n",
       "\n",
       "    .dataframe tbody tr th {\n",
       "        vertical-align: top;\n",
       "    }\n",
       "\n",
       "    .dataframe thead th {\n",
       "        text-align: right;\n",
       "    }\n",
       "</style>\n",
       "<table border=\"1\" class=\"dataframe\">\n",
       "  <thead>\n",
       "    <tr style=\"text-align: right;\">\n",
       "      <th></th>\n",
       "      <th>luokittelija</th>\n",
       "      <th>rmse</th>\n",
       "      <th>r2</th>\n",
       "      <th>aika (s)</th>\n",
       "    </tr>\n",
       "  </thead>\n",
       "  <tbody>\n",
       "    <tr>\n",
       "      <th>1</th>\n",
       "      <td>votingReg</td>\n",
       "      <td>4.190964</td>\n",
       "      <td>0.775663</td>\n",
       "      <td>0.03</td>\n",
       "    </tr>\n",
       "    <tr>\n",
       "      <th>0</th>\n",
       "      <td>averagingReg</td>\n",
       "      <td>4.283085</td>\n",
       "      <td>0.765693</td>\n",
       "      <td>0.01</td>\n",
       "    </tr>\n",
       "    <tr>\n",
       "      <th>2</th>\n",
       "      <td>stackingReg</td>\n",
       "      <td>4.678568</td>\n",
       "      <td>0.720425</td>\n",
       "      <td>0.09</td>\n",
       "    </tr>\n",
       "    <tr>\n",
       "      <th>4</th>\n",
       "      <td>adaboostReg</td>\n",
       "      <td>4.712045</td>\n",
       "      <td>0.716410</td>\n",
       "      <td>0.03</td>\n",
       "    </tr>\n",
       "    <tr>\n",
       "      <th>3</th>\n",
       "      <td>baggingReg</td>\n",
       "      <td>5.298402</td>\n",
       "      <td>0.641440</td>\n",
       "      <td>0.06</td>\n",
       "    </tr>\n",
       "  </tbody>\n",
       "</table>\n",
       "</div>"
      ],
      "text/plain": [
       "   luokittelija      rmse        r2  aika (s)\n",
       "1     votingReg  4.190964  0.775663      0.03\n",
       "0  averagingReg  4.283085  0.765693      0.01\n",
       "2   stackingReg  4.678568  0.720425      0.09\n",
       "4   adaboostReg  4.712045  0.716410      0.03\n",
       "3    baggingReg  5.298402  0.641440      0.06"
      ]
     },
     "execution_count": 17,
     "metadata": {},
     "output_type": "execute_result"
    }
   ],
   "source": [
    "df = df.sort_values(by=['rmse'], ascending=True)\n",
    "df"
   ]
  },
  {
   "cell_type": "markdown",
   "metadata": {},
   "source": [
    "### Järjestettynä ajan mukaan"
   ]
  },
  {
   "cell_type": "code",
   "execution_count": 18,
   "metadata": {},
   "outputs": [
    {
     "data": {
      "text/html": [
       "<div>\n",
       "<style scoped>\n",
       "    .dataframe tbody tr th:only-of-type {\n",
       "        vertical-align: middle;\n",
       "    }\n",
       "\n",
       "    .dataframe tbody tr th {\n",
       "        vertical-align: top;\n",
       "    }\n",
       "\n",
       "    .dataframe thead th {\n",
       "        text-align: right;\n",
       "    }\n",
       "</style>\n",
       "<table border=\"1\" class=\"dataframe\">\n",
       "  <thead>\n",
       "    <tr style=\"text-align: right;\">\n",
       "      <th></th>\n",
       "      <th>luokittelija</th>\n",
       "      <th>rmse</th>\n",
       "      <th>r2</th>\n",
       "      <th>aika (s)</th>\n",
       "    </tr>\n",
       "  </thead>\n",
       "  <tbody>\n",
       "    <tr>\n",
       "      <th>0</th>\n",
       "      <td>averagingReg</td>\n",
       "      <td>4.283085</td>\n",
       "      <td>0.765693</td>\n",
       "      <td>0.01</td>\n",
       "    </tr>\n",
       "    <tr>\n",
       "      <th>1</th>\n",
       "      <td>votingReg</td>\n",
       "      <td>4.190964</td>\n",
       "      <td>0.775663</td>\n",
       "      <td>0.03</td>\n",
       "    </tr>\n",
       "    <tr>\n",
       "      <th>4</th>\n",
       "      <td>adaboostReg</td>\n",
       "      <td>4.712045</td>\n",
       "      <td>0.716410</td>\n",
       "      <td>0.03</td>\n",
       "    </tr>\n",
       "    <tr>\n",
       "      <th>3</th>\n",
       "      <td>baggingReg</td>\n",
       "      <td>5.298402</td>\n",
       "      <td>0.641440</td>\n",
       "      <td>0.06</td>\n",
       "    </tr>\n",
       "    <tr>\n",
       "      <th>2</th>\n",
       "      <td>stackingReg</td>\n",
       "      <td>4.678568</td>\n",
       "      <td>0.720425</td>\n",
       "      <td>0.09</td>\n",
       "    </tr>\n",
       "  </tbody>\n",
       "</table>\n",
       "</div>"
      ],
      "text/plain": [
       "   luokittelija      rmse        r2  aika (s)\n",
       "0  averagingReg  4.283085  0.765693      0.01\n",
       "1     votingReg  4.190964  0.775663      0.03\n",
       "4   adaboostReg  4.712045  0.716410      0.03\n",
       "3    baggingReg  5.298402  0.641440      0.06\n",
       "2   stackingReg  4.678568  0.720425      0.09"
      ]
     },
     "execution_count": 18,
     "metadata": {},
     "output_type": "execute_result"
    }
   ],
   "source": [
    "df = df.sort_values(by=['aika (s)'], ascending=True)\n",
    "df"
   ]
  },
  {
   "cell_type": "markdown",
   "metadata": {},
   "source": [
    "## 5. Plotataan regressorit"
   ]
  },
  {
   "cell_type": "code",
   "execution_count": 19,
   "metadata": {},
   "outputs": [],
   "source": [
    "markers = [\"o\",\"s\",\"p\",\"h\",\"D\"]"
   ]
  },
  {
   "cell_type": "code",
   "execution_count": 20,
   "metadata": {},
   "outputs": [
    {
     "data": {
      "text/plain": [
       "Text(0, 0.5, 'aika (s)')"
      ]
     },
     "execution_count": 20,
     "metadata": {},
     "output_type": "execute_result"
    },
    {
     "data": {
      "image/png": "[encoded data removed]",
      "text/plain": [
       "<Figure size 432x288 with 1 Axes>"
      ]
     },
     "metadata": {},
     "output_type": "display_data"
    }
   ],
   "source": [
    "for i in range (0, len(df)):\n",
    "    plt.scatter(df['r2'].iloc[i],df['aika (s)'].iloc[i], label=df['luokittelija'].iloc[i], marker=markers[i],s=100)\n",
    "    \n",
    "\n",
    "plt.legend()\n",
    "plt.xlim(0, 1);\n",
    "plt.xlabel('r2')\n",
    "plt.ylabel('aika (s)')"
   ]
  },
  {
   "cell_type": "code",
   "execution_count": 21,
   "metadata": {},
   "outputs": [
    {
     "data": {
      "text/plain": [
       "Text(0, 0.5, 'aika (s)')"
      ]
     },
     "execution_count": 21,
     "metadata": {},
     "output_type": "execute_result"
    },
    {
     "data": {
      "image/png": "[encoded data removed]",
      "text/plain": [
       "<Figure size 432x288 with 1 Axes>"
      ]
     },
     "metadata": {},
     "output_type": "display_data"
    }
   ],
   "source": [
    "for i in range (0, len(df)):\n",
    "    plt.scatter(df['rmse'].iloc[i],df['aika (s)'].iloc[i], label=df['luokittelija'].iloc[i], marker=markers[i],s=100)\n",
    "    \n",
    "\n",
    "plt.legend()\n",
    "plt.xlabel('rmse')\n",
    "plt.ylabel('aika (s)')"
   ]
  },
  {
   "cell_type": "code",
   "execution_count": 22,
   "metadata": {},
   "outputs": [
    {
     "data": {
      "text/plain": [
       "Text(0, 0.5, 'rmse')"
      ]
     },
     "execution_count": 22,
     "metadata": {},
     "output_type": "execute_result"
    },
    {
     "data": {
      "image/png": "[encoded data removed]",
      "text/plain": [
       "<Figure size 432x288 with 1 Axes>"
      ]
     },
     "metadata": {},
     "output_type": "display_data"
    }
   ],
   "source": [
    "for i in range (0, len(df)):\n",
    "    plt.scatter(df['r2'].iloc[i],df['rmse'].iloc[i], label=df['luokittelija'].iloc[i], marker=markers[i],s=100)\n",
    "    \n",
    "\n",
    "plt.legend()\n",
    "plt.xlabel('r2')\n",
    "plt.ylabel('rmse')"
   ]
  }
 ],
 "metadata": {
  "kernelspec": {
   "display_name": "Python 3",
   "language": "python",
   "name": "python3"
  },
  "language_info": {
   "codemirror_mode": {
    "name": "ipython",
    "version": 3
   },
   "file_extension": ".py",
   "mimetype": "text/x-python",
   "name": "python",
   "nbconvert_exporter": "python",
   "pygments_lexer": "ipython3",
   "version": "3.7.6"
  }
 },
 "nbformat": 4,
 "nbformat_minor": 4
}
