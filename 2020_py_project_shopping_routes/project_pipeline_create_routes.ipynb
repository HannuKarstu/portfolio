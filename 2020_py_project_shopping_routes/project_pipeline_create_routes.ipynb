{
 "cells": [
  {
   "cell_type": "markdown",
   "metadata": {},
   "source": [
    "# PROJEKTI 2 - Team Bravo\n",
    "\n",
    "Hannu Karstu\n",
    "Anssi Korhonen\n",
    "Tuomas Karjalainen\n",
    "\n",
    "# -- PIPELINE: CREATE ROUTES -- "
   ]
  },
  {
   "cell_type": "markdown",
   "metadata": {},
   "source": [
    "# Importit"
   ]
  },
  {
   "cell_type": "markdown",
   "metadata": {},
   "source": [
    "## - Ulkopuoliset moduulit"
   ]
  },
  {
   "cell_type": "code",
   "execution_count": 67,
   "metadata": {},
   "outputs": [],
   "source": [
    "import matplotlib.pyplot as plt\n",
    "import sys\n",
    "import warnings\n",
    "warnings.filterwarnings('ignore')"
   ]
  },
  {
   "cell_type": "markdown",
   "metadata": {},
   "source": [
    "## - Omat moduulit"
   ]
  },
  {
   "cell_type": "code",
   "execution_count": 68,
   "metadata": {},
   "outputs": [],
   "source": [
    "# Näiden on pakko olla että moduuliin tehdyt \n",
    "# muutokset päivittyvät aina kun tämä ajetaan\n",
    "%reload_ext autoreload\n",
    "%autoreload 2\n",
    "\n",
    "# Tämä pitää olla jotta voidaan hakea \n",
    "# moduuleita modules-kansiosta\n",
    "sys.path.append(\"./modules/\")\n",
    "\n",
    "\n",
    "#MODUULIT\n",
    "\n",
    "from node_id_tools import print_unique_nodes, shorten_node_id, create_node_dictionary\n",
    "from color_tools import getColorList\n",
    "from node_plotter import node_hist, node_plot, node_hist2d\n",
    "from timestampcleaner import timeStampCleaner\n",
    "from cockroachdbconnect import crdbFetchAll, crdbFetchDates\n",
    "from mariadbconnect import mariaFetchAll, mariaFetchDates\n",
    "from gridconverter import gridConverter\n",
    "from isolationforest import isolationForest\n",
    "from removeoutside import removeOutside\n",
    "from heatmap import heatMap\n",
    "from addspeed import addSpeed\n",
    "from route_creator import route_creator, route_creator_columns\n",
    "from graaffi import graaffi, reittiplot\n",
    "from heatmap_routes import heatMap_routes\n",
    "from routes_to_df import routes_to_DF\n",
    "from stats import Stats\n",
    "from save_df import save_df, load_df"
   ]
  },
  {
   "cell_type": "markdown",
   "metadata": {},
   "source": [
    "# Pipeline - Create Routes"
   ]
  },
  {
   "cell_type": "code",
   "execution_count": 71,
   "metadata": {},
   "outputs": [],
   "source": [
    "def Pipeline_Create_Routes(\n",
    "    start,\n",
    "    end):\n",
    "    from timeit import default_timer as timer\n",
    "    \n",
    "    # Ajastin päälle\n",
    "    start_time = timer() \n",
    "    print(\"Creating routes...\")\n",
    "    print(\"--- --- --- --- ---\")\n",
    "    print(\"\")\n",
    "\n",
    "    df = crdbFetchDates(\n",
    "        limit=\"ALL\", \n",
    "        start=start,\n",
    "        end=end)\n",
    "    print(\"\")\n",
    "    \n",
    "    df_timestampcleaner = timeStampCleaner(\n",
    "        df=df.copy(),\n",
    "        newColumns=True, \n",
    "        removeTime=\"Night\", # \"Night\", \"Business\" or None\n",
    "        weekday_open = 8,\n",
    "        sunday_open = 10,\n",
    "        everyday_close = 21)\n",
    "    print(\"\")\n",
    "    \n",
    "    df_removeoutside = removeOutside(\n",
    "        df=df_timestampcleaner.copy(),\n",
    "        printResults=False,\n",
    "        plotResults=False,\n",
    "        ymin=-1500,\n",
    "        ymax=3500,\n",
    "        xmin=-300,\n",
    "        xmax=4000)\n",
    "    print(\"\")\n",
    "    \n",
    "    df_routes = route_creator(df_removeoutside.copy())\n",
    "    print(\"\")\n",
    "    \n",
    "    df_routes_grid_50 = gridConverter(\n",
    "        df=df_routes.copy(),\n",
    "        gridsize=50, \n",
    "        printresults=False,\n",
    "        x_range=(-300,4000),\n",
    "        y_range=(-1500,3500),\n",
    "        create_indexes=True)\n",
    "    print(\"\")\n",
    "    \n",
    "    routes_df = routes_to_DF(df=df_routes_grid_50,length_of_index_list=100)\n",
    "    print(\"\")\n",
    "    \n",
    "    # Ajastin kiinni\n",
    "    end_time = timer()\n",
    "    print(\"- everything done in\",round(end_time-start_time,2),\"seconds\")\n",
    "    \n",
    "    return routes_df"
   ]
  },
  {
   "cell_type": "markdown",
   "metadata": {},
   "source": [
    "# CREATE ROUTES"
   ]
  },
  {
   "cell_type": "code",
   "execution_count": 72,
   "metadata": {},
   "outputs": [
    {
     "name": "stdout",
     "output_type": "stream",
     "text": [
      "Creating routes...\n",
      "--- --- --- --- ---\n",
      "\n",
      "Initializing connection to CockroachDB\n",
      "Searching for everything between dates 2020-07-06 - 2020-07-12 in database...\n",
      "- done in 10.57 seconds\n",
      "- shape of the result: (776956, 6)\n",
      "\n",
      "Cleaning timestamp of dataframe\n",
      "  - Creating day, month, year and date columns\n",
      "  - Removing night time values\n",
      "    - Removed 44277 values\n",
      "    - Remaining values 732679\n",
      "- done in 1.5 seconds\n",
      "\n",
      "Running removeOutside-function on dataframe...\n",
      "- done in 0.43 seconds\n",
      "\n",
      "Determining shopping routes and creating necessary columns...\n",
      "\n",
      "List of shopping routes:\n",
      "\n",
      "[  1   2   3   4   5   6   7   8   9  10  11  12  13  14  15  16  17  18\n",
      "  19  20  21  22  23  24  25  26  27  28  29  30  31  32  33  34  35  36\n",
      "  37  38  39  40  41  42  43  44  45  46  47  48  49  50  51  52  53  54\n",
      "  55  56  57  58  59  60  61  62  63  64  65  66  67  68  69  70  71  72\n",
      "  73  74  75  76  77  78  79  80  81  82  83  84  85  86  87  88  89  90\n",
      "  91  92  93  94  95  96  97  98  99 100 101 102 103 104 105 106 107 108\n",
      " 109 110 111 112 113 114 115 116 117 118 119 120 121 122 123 124 125 126\n",
      " 127 128 129 130 131 132 133 134 135 136 137 138 139 140 141 142 143 144\n",
      " 145 146 147 148 149 150 151 152 153 154 155 156 157 158 159 160 161 162\n",
      " 163 164 165 166 167 168 169 170 171 172 173 174 175 176 177 178 179 180\n",
      " 181 182 183 184 185 186 187 188 189 190 191 192 193 194 195 196 197 198\n",
      " 199 200 201 202 203 204 205 206 207 208 209 210 211 212 213 214 215 216\n",
      " 217 218 219 220 221 222 223 224 225 226 227 228 229 230 231 232 233 234\n",
      " 235 236 237 238 239 240 241]\n",
      "\n",
      "- done in 8.79 seconds\n",
      "\n",
      "Converting dataframe 4300 x 5000 to 50 x 50 grid...\n",
      "- done in 0.02 seconds\n",
      "\n",
      "Running routes_to_DF on dataframe...\n",
      "- done in 2.25 seconds\n",
      "\n",
      "- everything done in 24.31 seconds\n",
      "Saving dataframe into a binary file...\n",
      "- done in 0.0 seconds\n"
     ]
    }
   ],
   "source": [
    "# KIRJOITA TÄHÄN VIIKON AIKAJAKSO, \n",
    "# ESIM:\n",
    "# start=\"2020-07-28\"\n",
    "# end=\"2020-07-28\"\n",
    "\n",
    "my_routes = Pipeline_Create_Routes(\n",
    "    start=\"2020-07-06\",\n",
    "    end=\"2020-07-12\")\n",
    "\n",
    "\n",
    "\n",
    "# KIRJOITA TÄHÄN VIIKON NUMERO, ESIM \"vko23.df\"\n",
    "save_df(my_routes, filename=\"vko28.df\",path=\"./files/\")"
   ]
  }
 ],
 "metadata": {
  "kernelspec": {
   "display_name": "Python 3.6.9 64-bit",
   "language": "python",
   "name": "python36964bitaf0c3a04f4af46b4b1748d2a9cc2e5ba"
  },
  "language_info": {
   "codemirror_mode": {
    "name": "ipython",
    "version": 3
   },
   "file_extension": ".py",
   "mimetype": "text/x-python",
   "name": "python",
   "nbconvert_exporter": "python",
   "pygments_lexer": "ipython3",
   "version": "3.6.9"
  }
 },
 "nbformat": 4,
 "nbformat_minor": 2
}