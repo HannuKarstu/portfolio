{
 "cells": [
  {
   "cell_type": "markdown",
   "metadata": {},
   "source": [
    "# Tehtävä 4 - Bayes\n",
    "Hannu Karstu - TTV19SAI\n",
    "\n",
    "- Avaa Moodlesta löytyvä dokumentti Machine learning fundamentals, Chapter 4, Supervised learning algorithms, Predict Annual Income.pdf\n",
    "- Tee dokumentissa ohjeistettu esikäsittely Census Income datasetille \n",
    "- Dokumentissa on esitelty Naiivi bayes-luokittelija, päätöksentekopuu sekä tukivektorikone SVM sekä esimerkit kuhunkin liittyen.\n",
    "- Tutustu kuhunkin luokittelijaan ja käy esimerkit läpi\n",
    "- Dokumentissa on kolme tehtävää: activity 11, activity 12 ja activity 13. Tee tehtävät samaan Jupyter Notebookiin. \n",
    "- Hyödynnä Scikit-learnin työkaluja (mm. Grid Search CV) hakeaksesi parhaan mahdollisen suorituskyvyn mallille\n",
    "- Kommentoi koodisi kattavasti"
   ]
  },
  {
   "cell_type": "markdown",
   "metadata": {},
   "source": [
    "## 1. Esikäsittely Census Income datasetille\n",
    "- Avaa Moodlesta löytyvä dokumentti Machine learning fundamentals, Chapter 4, Supervised learning algorithms, Predict Annual Income.pdf\n",
    "- Tee dokumentissa ohjeistettu esikäsittely Census Income datasetille "
   ]
  },
  {
   "cell_type": "markdown",
   "metadata": {},
   "source": [
    "### 1.1 Ladataan data pandasilla\n",
    "- CSV-tiedosto on jo etukäteen muokattu lisäämällä otsikot ja korvaamalla ?-merkit tyhjällä"
   ]
  },
  {
   "cell_type": "code",
   "execution_count": 1,
   "metadata": {},
   "outputs": [
    {
     "data": {
      "text/html": [
       "<div>\n",
       "<style scoped>\n",
       "    .dataframe tbody tr th:only-of-type {\n",
       "        vertical-align: middle;\n",
       "    }\n",
       "\n",
       "    .dataframe tbody tr th {\n",
       "        vertical-align: top;\n",
       "    }\n",
       "\n",
       "    .dataframe thead th {\n",
       "        text-align: right;\n",
       "    }\n",
       "</style>\n",
       "<table border=\"1\" class=\"dataframe\">\n",
       "  <thead>\n",
       "    <tr style=\"text-align: right;\">\n",
       "      <th></th>\n",
       "      <th>age</th>\n",
       "      <th>workclass</th>\n",
       "      <th>fnlwgt</th>\n",
       "      <th>education</th>\n",
       "      <th>education-num</th>\n",
       "      <th>marital-status</th>\n",
       "      <th>occupation</th>\n",
       "      <th>relationship</th>\n",
       "      <th>race</th>\n",
       "      <th>sex</th>\n",
       "      <th>capital-gain</th>\n",
       "      <th>capital-loss</th>\n",
       "      <th>hours-per-week</th>\n",
       "      <th>native-country</th>\n",
       "      <th>income</th>\n",
       "    </tr>\n",
       "  </thead>\n",
       "  <tbody>\n",
       "    <tr>\n",
       "      <th>0</th>\n",
       "      <td>39</td>\n",
       "      <td>State-gov</td>\n",
       "      <td>77516</td>\n",
       "      <td>Bachelors</td>\n",
       "      <td>13</td>\n",
       "      <td>Never-married</td>\n",
       "      <td>Adm-clerical</td>\n",
       "      <td>Not-in-family</td>\n",
       "      <td>White</td>\n",
       "      <td>Male</td>\n",
       "      <td>2174</td>\n",
       "      <td>0</td>\n",
       "      <td>40</td>\n",
       "      <td>United-States</td>\n",
       "      <td>&lt;=50K</td>\n",
       "    </tr>\n",
       "    <tr>\n",
       "      <th>1</th>\n",
       "      <td>50</td>\n",
       "      <td>Self-emp-not-inc</td>\n",
       "      <td>83311</td>\n",
       "      <td>Bachelors</td>\n",
       "      <td>13</td>\n",
       "      <td>Married-civ-spouse</td>\n",
       "      <td>Exec-managerial</td>\n",
       "      <td>Husband</td>\n",
       "      <td>White</td>\n",
       "      <td>Male</td>\n",
       "      <td>0</td>\n",
       "      <td>0</td>\n",
       "      <td>13</td>\n",
       "      <td>United-States</td>\n",
       "      <td>&lt;=50K</td>\n",
       "    </tr>\n",
       "    <tr>\n",
       "      <th>2</th>\n",
       "      <td>38</td>\n",
       "      <td>Private</td>\n",
       "      <td>215646</td>\n",
       "      <td>HS-grad</td>\n",
       "      <td>9</td>\n",
       "      <td>Divorced</td>\n",
       "      <td>Handlers-cleaners</td>\n",
       "      <td>Not-in-family</td>\n",
       "      <td>White</td>\n",
       "      <td>Male</td>\n",
       "      <td>0</td>\n",
       "      <td>0</td>\n",
       "      <td>40</td>\n",
       "      <td>United-States</td>\n",
       "      <td>&lt;=50K</td>\n",
       "    </tr>\n",
       "  </tbody>\n",
       "</table>\n",
       "</div>"
      ],
      "text/plain": [
       "   age          workclass  fnlwgt   education  education-num  \\\n",
       "0   39          State-gov   77516   Bachelors             13   \n",
       "1   50   Self-emp-not-inc   83311   Bachelors             13   \n",
       "2   38            Private  215646     HS-grad              9   \n",
       "\n",
       "        marital-status          occupation    relationship    race    sex  \\\n",
       "0        Never-married        Adm-clerical   Not-in-family   White   Male   \n",
       "1   Married-civ-spouse     Exec-managerial         Husband   White   Male   \n",
       "2             Divorced   Handlers-cleaners   Not-in-family   White   Male   \n",
       "\n",
       "   capital-gain  capital-loss  hours-per-week  native-country  income  \n",
       "0          2174             0              40   United-States   <=50K  \n",
       "1             0             0              13   United-States   <=50K  \n",
       "2             0             0              40   United-States   <=50K  "
      ]
     },
     "execution_count": 1,
     "metadata": {},
     "output_type": "execute_result"
    }
   ],
   "source": [
    "import pandas as pd\n",
    "\n",
    "df=pd.read_csv('teht4_data.csv', sep=',')\n",
    "\n",
    "df\n",
    "\n",
    "df.head(3)"
   ]
  },
  {
   "cell_type": "markdown",
   "metadata": {},
   "source": [
    "### 1.2 Tiputetaan tarpeettomat sarakkeet"
   ]
  },
  {
   "cell_type": "code",
   "execution_count": 2,
   "metadata": {},
   "outputs": [
    {
     "data": {
      "text/html": [
       "<div>\n",
       "<style scoped>\n",
       "    .dataframe tbody tr th:only-of-type {\n",
       "        vertical-align: middle;\n",
       "    }\n",
       "\n",
       "    .dataframe tbody tr th {\n",
       "        vertical-align: top;\n",
       "    }\n",
       "\n",
       "    .dataframe thead th {\n",
       "        text-align: right;\n",
       "    }\n",
       "</style>\n",
       "<table border=\"1\" class=\"dataframe\">\n",
       "  <thead>\n",
       "    <tr style=\"text-align: right;\">\n",
       "      <th></th>\n",
       "      <th>age</th>\n",
       "      <th>workclass</th>\n",
       "      <th>education-num</th>\n",
       "      <th>marital-status</th>\n",
       "      <th>occupation</th>\n",
       "      <th>capital-gain</th>\n",
       "      <th>capital-loss</th>\n",
       "      <th>hours-per-week</th>\n",
       "      <th>native-country</th>\n",
       "      <th>income</th>\n",
       "    </tr>\n",
       "  </thead>\n",
       "  <tbody>\n",
       "    <tr>\n",
       "      <th>0</th>\n",
       "      <td>39</td>\n",
       "      <td>State-gov</td>\n",
       "      <td>13</td>\n",
       "      <td>Never-married</td>\n",
       "      <td>Adm-clerical</td>\n",
       "      <td>2174</td>\n",
       "      <td>0</td>\n",
       "      <td>40</td>\n",
       "      <td>United-States</td>\n",
       "      <td>&lt;=50K</td>\n",
       "    </tr>\n",
       "    <tr>\n",
       "      <th>1</th>\n",
       "      <td>50</td>\n",
       "      <td>Self-emp-not-inc</td>\n",
       "      <td>13</td>\n",
       "      <td>Married-civ-spouse</td>\n",
       "      <td>Exec-managerial</td>\n",
       "      <td>0</td>\n",
       "      <td>0</td>\n",
       "      <td>13</td>\n",
       "      <td>United-States</td>\n",
       "      <td>&lt;=50K</td>\n",
       "    </tr>\n",
       "    <tr>\n",
       "      <th>2</th>\n",
       "      <td>38</td>\n",
       "      <td>Private</td>\n",
       "      <td>9</td>\n",
       "      <td>Divorced</td>\n",
       "      <td>Handlers-cleaners</td>\n",
       "      <td>0</td>\n",
       "      <td>0</td>\n",
       "      <td>40</td>\n",
       "      <td>United-States</td>\n",
       "      <td>&lt;=50K</td>\n",
       "    </tr>\n",
       "  </tbody>\n",
       "</table>\n",
       "</div>"
      ],
      "text/plain": [
       "   age          workclass  education-num       marital-status  \\\n",
       "0   39          State-gov             13        Never-married   \n",
       "1   50   Self-emp-not-inc             13   Married-civ-spouse   \n",
       "2   38            Private              9             Divorced   \n",
       "\n",
       "           occupation  capital-gain  capital-loss  hours-per-week  \\\n",
       "0        Adm-clerical          2174             0              40   \n",
       "1     Exec-managerial             0             0              13   \n",
       "2   Handlers-cleaners             0             0              40   \n",
       "\n",
       "   native-country  income  \n",
       "0   United-States   <=50K  \n",
       "1   United-States   <=50K  \n",
       "2   United-States   <=50K  "
      ]
     },
     "execution_count": 2,
     "metadata": {},
     "output_type": "execute_result"
    }
   ],
   "source": [
    "df = df.drop(['fnlwgt','education','relationship','race','sex'], axis=1)\n",
    "\n",
    "df.head(3)"
   ]
  },
  {
   "cell_type": "markdown",
   "metadata": {},
   "source": [
    "### 1.3 Tarkistetaan tyhjät arvot"
   ]
  },
  {
   "cell_type": "code",
   "execution_count": 3,
   "metadata": {},
   "outputs": [
    {
     "data": {
      "text/plain": [
       "age                  0\n",
       "workclass         1836\n",
       "education-num        0\n",
       "marital-status       0\n",
       "occupation        1843\n",
       "capital-gain         0\n",
       "capital-loss         0\n",
       "hours-per-week       0\n",
       "native-country     583\n",
       "income               0\n",
       "dtype: int64"
      ]
     },
     "execution_count": 3,
     "metadata": {},
     "output_type": "execute_result"
    }
   ],
   "source": [
    "df.isna().sum()"
   ]
  },
  {
   "cell_type": "markdown",
   "metadata": {},
   "source": [
    "- Näitä ei pidä tehtävänannon mukaan tiputtaa pois"
   ]
  },
  {
   "cell_type": "markdown",
   "metadata": {},
   "source": [
    "### 1.4 Muunnetaan kaikki numeerisiksi arvoiksi"
   ]
  },
  {
   "cell_type": "code",
   "execution_count": 4,
   "metadata": {},
   "outputs": [
    {
     "name": "stdout",
     "output_type": "stream",
     "text": [
      "age                int64\n",
      "workclass         object\n",
      "education-num      int64\n",
      "marital-status    object\n",
      "occupation        object\n",
      "capital-gain       int64\n",
      "capital-loss       int64\n",
      "hours-per-week     int64\n",
      "native-country    object\n",
      "income            object\n",
      "dtype: object\n"
     ]
    },
    {
     "data": {
      "text/html": [
       "<div>\n",
       "<style scoped>\n",
       "    .dataframe tbody tr th:only-of-type {\n",
       "        vertical-align: middle;\n",
       "    }\n",
       "\n",
       "    .dataframe tbody tr th {\n",
       "        vertical-align: top;\n",
       "    }\n",
       "\n",
       "    .dataframe thead th {\n",
       "        text-align: right;\n",
       "    }\n",
       "</style>\n",
       "<table border=\"1\" class=\"dataframe\">\n",
       "  <thead>\n",
       "    <tr style=\"text-align: right;\">\n",
       "      <th></th>\n",
       "      <th>age</th>\n",
       "      <th>workclass</th>\n",
       "      <th>education-num</th>\n",
       "      <th>marital-status</th>\n",
       "      <th>occupation</th>\n",
       "      <th>capital-gain</th>\n",
       "      <th>capital-loss</th>\n",
       "      <th>hours-per-week</th>\n",
       "      <th>native-country</th>\n",
       "      <th>income</th>\n",
       "    </tr>\n",
       "  </thead>\n",
       "  <tbody>\n",
       "    <tr>\n",
       "      <th>0</th>\n",
       "      <td>39</td>\n",
       "      <td>State-gov</td>\n",
       "      <td>13</td>\n",
       "      <td>Never-married</td>\n",
       "      <td>Adm-clerical</td>\n",
       "      <td>2174</td>\n",
       "      <td>0</td>\n",
       "      <td>40</td>\n",
       "      <td>United-States</td>\n",
       "      <td>&lt;=50K</td>\n",
       "    </tr>\n",
       "  </tbody>\n",
       "</table>\n",
       "</div>"
      ],
      "text/plain": [
       "   age   workclass  education-num  marital-status     occupation  \\\n",
       "0   39   State-gov             13   Never-married   Adm-clerical   \n",
       "\n",
       "   capital-gain  capital-loss  hours-per-week  native-country  income  \n",
       "0          2174             0              40   United-States   <=50K  "
      ]
     },
     "execution_count": 4,
     "metadata": {},
     "output_type": "execute_result"
    }
   ],
   "source": [
    "# Tarkistetaan ensin mitä pitää muuttaa\n",
    "# Muunnetaan kaikki mitkä ei ole int64-muodossa\n",
    "print(df.dtypes)\n",
    "df.head(1)"
   ]
  },
  {
   "cell_type": "code",
   "execution_count": 5,
   "metadata": {},
   "outputs": [
    {
     "data": {
      "text/plain": [
       "['workclass', 'marital-status', 'occupation', 'native-country', 'income']"
      ]
     },
     "execution_count": 5,
     "metadata": {},
     "output_type": "execute_result"
    }
   ],
   "source": [
    "# Otetaan listalle kaikki kolumnien nimet, joiden datatyyppi on object\n",
    "mylist = list(df.select_dtypes(include=['object']).columns)\n",
    "mylist"
   ]
  },
  {
   "cell_type": "code",
   "execution_count": 6,
   "metadata": {},
   "outputs": [
    {
     "data": {
      "text/html": [
       "<div>\n",
       "<style scoped>\n",
       "    .dataframe tbody tr th:only-of-type {\n",
       "        vertical-align: middle;\n",
       "    }\n",
       "\n",
       "    .dataframe tbody tr th {\n",
       "        vertical-align: top;\n",
       "    }\n",
       "\n",
       "    .dataframe thead th {\n",
       "        text-align: right;\n",
       "    }\n",
       "</style>\n",
       "<table border=\"1\" class=\"dataframe\">\n",
       "  <thead>\n",
       "    <tr style=\"text-align: right;\">\n",
       "      <th></th>\n",
       "      <th>age</th>\n",
       "      <th>workclass</th>\n",
       "      <th>education-num</th>\n",
       "      <th>marital-status</th>\n",
       "      <th>occupation</th>\n",
       "      <th>capital-gain</th>\n",
       "      <th>capital-loss</th>\n",
       "      <th>hours-per-week</th>\n",
       "      <th>native-country</th>\n",
       "      <th>income</th>\n",
       "    </tr>\n",
       "  </thead>\n",
       "  <tbody>\n",
       "    <tr>\n",
       "      <th>0</th>\n",
       "      <td>39</td>\n",
       "      <td>6</td>\n",
       "      <td>13</td>\n",
       "      <td>4</td>\n",
       "      <td>0</td>\n",
       "      <td>2174</td>\n",
       "      <td>0</td>\n",
       "      <td>40</td>\n",
       "      <td>38</td>\n",
       "      <td>0</td>\n",
       "    </tr>\n",
       "  </tbody>\n",
       "</table>\n",
       "</div>"
      ],
      "text/plain": [
       "   age  workclass  education-num  marital-status  occupation  capital-gain  \\\n",
       "0   39          6             13               4           0          2174   \n",
       "\n",
       "   capital-loss  hours-per-week  native-country  income  \n",
       "0             0              40              38       0  "
      ]
     },
     "execution_count": 6,
     "metadata": {},
     "output_type": "execute_result"
    }
   ],
   "source": [
    "from sklearn.preprocessing import LabelEncoder\n",
    "\n",
    "enc = LabelEncoder()\n",
    "\n",
    "# Käydään läpi äsken luotu lista ja muunnetaan oikeat kolumnit numeroarvoiksi\n",
    "for i in mylist:\n",
    "    df[i] = pd.Series(enc.fit_transform(df[i].astype('str')))\n",
    "    \n",
    "df.head(1)"
   ]
  },
  {
   "cell_type": "markdown",
   "metadata": {},
   "source": [
    "### 1.5 Tarkastetaan outlierit"
   ]
  },
  {
   "cell_type": "code",
   "execution_count": 7,
   "metadata": {},
   "outputs": [
    {
     "name": "stdout",
     "output_type": "stream",
     "text": [
      "Sum of outliers in columns:\n",
      "   age - 121\n",
      "   workclass - 0\n",
      "   education-num - 0\n",
      "   marital-status - 0\n",
      "   occupation - 0\n",
      "   capital-gain - 215\n",
      "   capital-loss - 1470\n",
      "   hours-per-week - 349\n",
      "   native-country - 0\n",
      "   income - 0\n"
     ]
    },
    {
     "data": {
      "text/plain": [
       "(32561, 10)"
      ]
     },
     "execution_count": 7,
     "metadata": {},
     "output_type": "execute_result"
    }
   ],
   "source": [
    "# Otetaan kaikki kolumnit listalle\n",
    "allcolumns = df.columns.tolist()\n",
    "outliers_list = []\n",
    "\n",
    "# Käsitellään outlierit joka kolumnille\n",
    "for column in allcolumns:\n",
    "    min_val = df[column].mean() - (3 * df[column].std())\n",
    "    max_val = df[column].mean() + (3 * df[column].std())\n",
    "    outliers = df[column][df[column] > max_val]\n",
    "    outliers_list.append((column,outliers.count()))\n",
    "\n",
    "# Printataan lista\n",
    "print(\"Sum of outliers in columns:\")    \n",
    "for line in outliers_list:\n",
    "    print(\"  \",line[0],\"-\",line[1])\n",
    "    \n",
    "# Tarkistetaan vielä dataframen koko\n",
    "df.shape"
   ]
  },
  {
   "cell_type": "markdown",
   "metadata": {},
   "source": [
    "## 2. Esimerkit ja tehtävänanto\n",
    "- Dokumentissa on esitelty Naiivi bayes-luokittelija, päätöksentekopuu sekä tukivektorikone SVM sekä esimerkit kuhunkin liittyen.\n",
    "- Tutustu kuhunkin luokittelijaan ja käy esimerkit läpi\n",
    "- Dokumentissa on kolme tehtävää: activity 11, activity 12 ja activity 13. Tee tehtävät samaan Jupyter Notebookiin."
   ]
  },
  {
   "cell_type": "markdown",
   "metadata": {},
   "source": [
    "## 3. Naiivi Bayes -tehtävä (activity 11)\n"
   ]
  },
  {
   "cell_type": "markdown",
   "metadata": {},
   "source": [
    "### 3.1 Luodaan ominaisuusmatriisi ja kohdevektori\n",
    "- Using the preprocessed Census Income Dataset, separate the features from the target by creating the variables X and Y."
   ]
  },
  {
   "cell_type": "code",
   "execution_count": 8,
   "metadata": {},
   "outputs": [],
   "source": [
    "# Erotetaan viimeinen kolumni kohdevektoriksi\n",
    "X = df.iloc[:,:9]\n",
    "y = df.iloc[:,9]"
   ]
  },
  {
   "cell_type": "markdown",
   "metadata": {},
   "source": [
    "### 3.2 Jaa testi- ja treenidataan\n",
    "- Divide the dataset into training, validation, and testing sets, using a split ratio of 10%."
   ]
  },
  {
   "cell_type": "code",
   "execution_count": 9,
   "metadata": {},
   "outputs": [
    {
     "name": "stdout",
     "output_type": "stream",
     "text": [
      "X_train 0.8\n",
      "X_test 0.1\n",
      "X_val 0.1\n"
     ]
    }
   ],
   "source": [
    "import numpy as np\n",
    "from sklearn.model_selection import train_test_split\n",
    "\n",
    "# Ymmärsin tehtävänannon \"using a split ratio of 10%\", siten\n",
    "# että otetaan 10 % testiin ja 10 % validointiin\n",
    "train_ratio = 0.80\n",
    "validation_ratio = 0.10\n",
    "test_ratio = 0.10\n",
    "\n",
    "# Train = 80% kokonaisdatasta\n",
    "X_train, X_test, y_train, y_test = train_test_split(X, y, test_size=1 - train_ratio)\n",
    "\n",
    "# Test = 10% kokonaisdatasta\n",
    "# Validation = 10% kokonaisdatasta\n",
    "X_val, X_test, y_val, y_test = train_test_split(X_test, y_test, test_size=test_ratio/(test_ratio + validation_ratio)) \n",
    "\n",
    "\n",
    "# Tarkistetaan vielä että jako meni oikein\n",
    "print(\"X_train\", round(X_train.shape[0]/X.shape[0], 2))\n",
    "print(\"X_test\", round(X_test.shape[0]/X.shape[0], 2))\n",
    "print(\"X_val\", round(X_val.shape[0]/X.shape[0], 2))"
   ]
  },
  {
   "cell_type": "markdown",
   "metadata": {},
   "source": [
    "### 3.3 Ota käyttöön Gaussian Naive Bayes\n",
    "- Import the Gaussian Naïve Bayes class, and then use the fit method to train the model over the training sets (X_train and Y_train)."
   ]
  },
  {
   "cell_type": "code",
   "execution_count": 10,
   "metadata": {},
   "outputs": [
    {
     "data": {
      "text/plain": [
       "GaussianNB(priors=None, var_smoothing=1e-09)"
      ]
     },
     "execution_count": 10,
     "metadata": {},
     "output_type": "execute_result"
    }
   ],
   "source": [
    "from sklearn.naive_bayes import GaussianNB\n",
    "model_bayes = GaussianNB()\n",
    "model_bayes.fit(X_train, y_train)"
   ]
  },
  {
   "cell_type": "markdown",
   "metadata": {},
   "source": [
    "### 3.4 Luo ennuste\n",
    "- Finally, perform a prediction using the model that you trained previously, for a new instance with the following values for each feature: 39, 6, 13, 4, 0, 2174, 0, 40, 38.\n",
    "- The prediction for the individual should be equal to zero, meaning that the individual most likely has an income less than or equal to 50K."
   ]
  },
  {
   "cell_type": "code",
   "execution_count": 11,
   "metadata": {},
   "outputs": [
    {
     "name": "stdout",
     "output_type": "stream",
     "text": [
      "[0]\n"
     ]
    }
   ],
   "source": [
    "pred = model_bayes.predict([[39, 6, 13, 4, 0, 2174, 0, 40, 38]])\n",
    "print(pred)"
   ]
  },
  {
   "cell_type": "markdown",
   "metadata": {},
   "source": [
    "- Hommahan toimii :)"
   ]
  },
  {
   "cell_type": "markdown",
   "metadata": {},
   "source": [
    "## 4. Decision Tree Model (activity 12)"
   ]
  },
  {
   "cell_type": "markdown",
   "metadata": {},
   "source": [
    "### 4.1 Otetaan Decision Tree käyttöön\n",
    "- Using the preprocessed Census Income Dataset that was previously split into different subsets, import the DecisionTreeClassifier class, and then use the fit method to train the model on the training sets (X_train and Y_train)."
   ]
  },
  {
   "cell_type": "code",
   "execution_count": 12,
   "metadata": {},
   "outputs": [
    {
     "data": {
      "text/plain": [
       "DecisionTreeClassifier(ccp_alpha=0.0, class_weight=None, criterion='gini',\n",
       "                       max_depth=None, max_features=None, max_leaf_nodes=None,\n",
       "                       min_impurity_decrease=0.0, min_impurity_split=None,\n",
       "                       min_samples_leaf=1, min_samples_split=2,\n",
       "                       min_weight_fraction_leaf=0.0, presort='deprecated',\n",
       "                       random_state=None, splitter='best')"
      ]
     },
     "execution_count": 12,
     "metadata": {},
     "output_type": "execute_result"
    }
   ],
   "source": [
    "from sklearn.tree import DecisionTreeClassifier\n",
    "\n",
    "model_dt = DecisionTreeClassifier()\n",
    "model_dt.fit(X_train, y_train)"
   ]
  },
  {
   "cell_type": "markdown",
   "metadata": {},
   "source": [
    "### 4.2 Luodaan ennuste\n",
    "- Finally, perform a prediction by using the model that you trained before for a new instance with the following values for each feature: 39, 6, 13, 4, 0, 2174, 0, 40, 38.\n",
    "- The prediction for the individual should be equal to zero, meaning that the individual most likely has an income less than, or equal to 50K."
   ]
  },
  {
   "cell_type": "code",
   "execution_count": 13,
   "metadata": {},
   "outputs": [
    {
     "name": "stdout",
     "output_type": "stream",
     "text": [
      "[0]\n"
     ]
    }
   ],
   "source": [
    "pred_dt = model_dt.predict([[39, 6, 13, 4, 0, 2174, 0, 40, 38]])\n",
    "print(pred_dt)"
   ]
  },
  {
   "cell_type": "markdown",
   "metadata": {},
   "source": [
    "## 5. Support Vector Machine Algorithm (activity 13)"
   ]
  },
  {
   "cell_type": "markdown",
   "metadata": {},
   "source": [
    "### 5.1 Otetaan SVC käyttöön"
   ]
  },
  {
   "cell_type": "code",
   "execution_count": 14,
   "metadata": {},
   "outputs": [
    {
     "data": {
      "text/plain": [
       "SVC(C=1.0, break_ties=False, cache_size=200, class_weight=None, coef0=0.0,\n",
       "    decision_function_shape='ovr', degree=3, gamma='scale', kernel='rbf',\n",
       "    max_iter=-1, probability=False, random_state=None, shrinking=True,\n",
       "    tol=0.001, verbose=False)"
      ]
     },
     "execution_count": 14,
     "metadata": {},
     "output_type": "execute_result"
    }
   ],
   "source": [
    "from sklearn.svm import SVC\n",
    "\n",
    "model_svc = SVC()\n",
    "model_svc.fit(X_train, y_train)"
   ]
  },
  {
   "cell_type": "markdown",
   "metadata": {},
   "source": [
    "### 5.2 Luodaan ennuste\n",
    "- Finally, perform a prediction using the model that you trained previously, for a new instance with the following values for each feature: 39, 6, 13, 4, 0, 2174, 0, 40, 38.\n",
    "- The prediction for the individual should be equal to zero, that is, the individual most likely has an income less than or equal to 50K."
   ]
  },
  {
   "cell_type": "code",
   "execution_count": 15,
   "metadata": {},
   "outputs": [
    {
     "name": "stdout",
     "output_type": "stream",
     "text": [
      "[0]\n"
     ]
    }
   ],
   "source": [
    "pred_svc = model_svc.predict([[39, 6, 13, 4, 0, 2174, 0, 40, 38.]])\n",
    "print(pred_svc)"
   ]
  },
  {
   "cell_type": "markdown",
   "metadata": {},
   "source": [
    "## 6. Haetaan paras suorituskyky malleille\n",
    "- Hyödynnä Scikit-learnin työkaluja (mm. Grid Search CV) hakeaksesi parhaan mahdollisen suorituskyvyn mallille"
   ]
  },
  {
   "cell_type": "markdown",
   "metadata": {},
   "source": [
    "### 6.1 Kokeillaan ensin classification reporttia ja confusion matrixia\n",
    "- Ajetaan testi yllä olevalle SVC:lle"
   ]
  },
  {
   "cell_type": "code",
   "execution_count": 16,
   "metadata": {},
   "outputs": [
    {
     "name": "stdout",
     "output_type": "stream",
     "text": [
      "              precision    recall  f1-score   support\n",
      "\n",
      "           0       0.81      0.97      0.88      2451\n",
      "           1       0.75      0.29      0.42       806\n",
      "\n",
      "    accuracy                           0.80      3257\n",
      "   macro avg       0.78      0.63      0.65      3257\n",
      "weighted avg       0.79      0.80      0.77      3257\n",
      "\n",
      "[[2375   76]\n",
      " [ 574  232]]\n"
     ]
    }
   ],
   "source": [
    "from sklearn.metrics import classification_report, confusion_matrix\n",
    "\n",
    "prediction = model_svc.predict(X_test)\n",
    "\n",
    "print(classification_report(y_test,prediction))\n",
    "print(confusion_matrix(y_test, prediction))"
   ]
  },
  {
   "cell_type": "markdown",
   "metadata": {},
   "source": [
    "### 6.2 Kokeillaan gridSearchilla löytää paremmat parametrit"
   ]
  },
  {
   "cell_type": "markdown",
   "metadata": {},
   "source": [
    "#### **SVC**\n",
    "- Tämä on todella aikaa vievä ajaa läpi, älä aja turhaan\n",
    "- Nyt ajettu X_val ja y_val -datalla, koska datamassan koko vaikuttaa niin paljon laskennan nopeuteen"
   ]
  },
  {
   "cell_type": "code",
   "execution_count": 17,
   "metadata": {},
   "outputs": [
    {
     "data": {
      "text/plain": [
       "{'C': 10, 'gamma': 0.001}"
      ]
     },
     "execution_count": 17,
     "metadata": {},
     "output_type": "execute_result"
    }
   ],
   "source": [
    "from sklearn.model_selection import GridSearchCV\n",
    "from IPython.display import clear_output\n",
    "\n",
    "param_grid = {'C': [1, 10], 'gamma': [0.001, 0.01, 1]}\n",
    "\n",
    "grid_svc = GridSearchCV(SVC(),param_grid,refit = True, verbose=2)\n",
    "\n",
    "grid_svc.fit(X_val,y_val)\n",
    "\n",
    "clear_output(wait=True) # Tyhjentää ruudun ennen printtausta\n",
    "\n",
    "grid_svc.best_params_"
   ]
  },
  {
   "cell_type": "markdown",
   "metadata": {},
   "source": [
    "#### **Decision Tree**"
   ]
  },
  {
   "cell_type": "code",
   "execution_count": 19,
   "metadata": {},
   "outputs": [
    {
     "name": "stdout",
     "output_type": "stream",
     "text": [
      "0.8559968423007864\n",
      "{'max_depth': 8, 'min_samples_leaf': 3}\n"
     ]
    }
   ],
   "source": [
    "from sklearn.tree import DecisionTreeClassifier\n",
    "from sklearn.model_selection import GridSearchCV\n",
    "\n",
    "depth_range = range(1, 10)\n",
    "leaf_range = range(1,15)\n",
    "\n",
    "param_grid = dict(max_depth=depth_range, min_samples_leaf=leaf_range)\n",
    "\n",
    "d_tree = DecisionTreeClassifier()\n",
    "\n",
    "grid_dt = GridSearchCV(d_tree, param_grid, cv=10, scoring='accuracy')\n",
    "\n",
    "grid_dt.fit(X_train,y_train)\n",
    "\n",
    "print(grid_dt.best_score_)\n",
    "print(grid_dt.best_params_)"
   ]
  },
  {
   "cell_type": "markdown",
   "metadata": {},
   "source": [
    "#### **Naiivi Bayes**"
   ]
  },
  {
   "cell_type": "code",
   "execution_count": 20,
   "metadata": {},
   "outputs": [
    {
     "name": "stdout",
     "output_type": "stream",
     "text": [
      "{'var_smoothing': 1e-08}\n"
     ]
    }
   ],
   "source": [
    "from sklearn.naive_bayes import GaussianNB\n",
    "from sklearn.model_selection import GridSearchCV\n",
    "\n",
    "bayes = GaussianNB()\n",
    "\n",
    "param_grid = {'var_smoothing': [1e-8, 1e-7, 1e-6, 1e-5, 1e-4]}\n",
    "\n",
    "grid_bayes = GridSearchCV(bayes,param_grid,refit = True, verbose=2)\n",
    "\n",
    "grid_bayes.fit(X_train,y_train)\n",
    "\n",
    "clear_output(wait=True) # Tyhjentää ruudun ennen printtausta\n",
    "print(grid_bayes.best_params_)"
   ]
  },
  {
   "cell_type": "markdown",
   "metadata": {},
   "source": [
    "### 6.4 Luodaan testifunktio"
   ]
  },
  {
   "cell_type": "code",
   "execution_count": 36,
   "metadata": {},
   "outputs": [],
   "source": [
    "# Original = luokitin ilman gridSearchia\n",
    "# gridSearched = gridSearchilla tehty\n",
    "from sklearn.metrics import accuracy_score\n",
    "from IPython.display import clear_output\n",
    "\n",
    "# Annetaan X ja y parametreina, jotta voidaan ajaa myös validointidatalla\n",
    "def fitAndCompare(original,gridSearched,X_train,y_train):\n",
    "    # Ensin mallin sovitus\n",
    "    original.fit(X_train,y_train) \n",
    "    gridSearched.fit(X_train,y_train)\n",
    "    \n",
    "    # Sitten ennuste\n",
    "    original_pred = original.predict(X_test)\n",
    "    gridSearched_pred = gridSearched.predict(X_test)\n",
    "    \n",
    "    # Sitten tarkkuus-score\n",
    "    original_acc = accuracy_score(y_test, original_pred)\n",
    "    gridSearched_acc = accuracy_score(y_test, gridSearched_pred)\n",
    "    \n",
    "    # Mallin nimi\n",
    "    model_name = type(original).__name__\n",
    "    \n",
    "    # Lopuksi tuloste ja tarkkuuden laskeminen\n",
    "    clear_output(wait=True) # Tyhjentää ruudun ennen printtausta\n",
    "    print(model_name,\"accuracy score\")\n",
    "    print(\"Original:\",round(original_acc, 2)*100,\"%\")\n",
    "    print(\"gridSearched:\",round(gridSearched_acc, 2)*100,\"%\")  \n",
    "    print(\"\")\n",
    "    \n",
    "    orig_score = round(original_acc, 2)*100\n",
    "    grid_score = round(gridSearched_acc, 2)*100\n",
    "    \n",
    "    return orig_score, grid_score"
   ]
  },
  {
   "cell_type": "markdown",
   "metadata": {},
   "source": [
    "### 6.5 Ajetaan testi- ja vertailufunktio jokaiselle"
   ]
  },
  {
   "cell_type": "code",
   "execution_count": 22,
   "metadata": {},
   "outputs": [
    {
     "name": "stdout",
     "output_type": "stream",
     "text": [
      "DecisionTreeClassifier accuracy score\n",
      "Original: 81.0 %\n",
      "gridSearched: 84.8 %\n",
      "\n"
     ]
    },
    {
     "data": {
      "text/plain": [
       "(81.0, 84.8)"
      ]
     },
     "execution_count": 22,
     "metadata": {},
     "output_type": "execute_result"
    }
   ],
   "source": [
    "# Decision Tree\n",
    "fitAndCompare(model_dt,grid_dt,X_train,y_train)"
   ]
  },
  {
   "cell_type": "code",
   "execution_count": 23,
   "metadata": {},
   "outputs": [
    {
     "name": "stdout",
     "output_type": "stream",
     "text": [
      "SVC accuracy score\n",
      "Original: 79.80000000000001 %\n",
      "gridSearched: 83.3 %\n",
      "\n"
     ]
    },
    {
     "data": {
      "text/plain": [
       "(79.80000000000001, 83.3)"
      ]
     },
     "execution_count": 23,
     "metadata": {},
     "output_type": "execute_result"
    }
   ],
   "source": [
    "# SVC\n",
    "fitAndCompare(model_svc,grid_svc,X_val,y_val)"
   ]
  },
  {
   "cell_type": "code",
   "execution_count": 24,
   "metadata": {},
   "outputs": [
    {
     "name": "stdout",
     "output_type": "stream",
     "text": [
      "GaussianNB accuracy score\n",
      "Original: 79.60000000000001 %\n",
      "gridSearched: 79.5 %\n",
      "\n"
     ]
    },
    {
     "data": {
      "text/plain": [
       "(79.60000000000001, 79.5)"
      ]
     },
     "execution_count": 24,
     "metadata": {},
     "output_type": "execute_result"
    }
   ],
   "source": [
    "# Naive Bayes\n",
    "fitAndCompare(model_bayes,grid_bayes,X_train,y_train)"
   ]
  },
  {
   "cell_type": "markdown",
   "metadata": {},
   "source": [
    "## 7. Testataan pipeline-menetelmää"
   ]
  },
  {
   "cell_type": "markdown",
   "metadata": {},
   "source": [
    "### 7.1. Importit"
   ]
  },
  {
   "cell_type": "code",
   "execution_count": 25,
   "metadata": {},
   "outputs": [],
   "source": [
    "from sklearn.svm import SVC\n",
    "from sklearn.preprocessing import StandardScaler\n",
    "from sklearn.pipeline import Pipeline"
   ]
  },
  {
   "cell_type": "markdown",
   "metadata": {},
   "source": [
    "### 7.2 Testifunktio"
   ]
  },
  {
   "cell_type": "code",
   "execution_count": 26,
   "metadata": {},
   "outputs": [],
   "source": [
    "def pipelineFitandScore(original,gridSearched,X_train,y_train):\n",
    "    \n",
    "    # Mallin nimi\n",
    "    model_name = type(original).__name__\n",
    "    \n",
    "    # Muodostetaan pipeline\n",
    "    pipe_orig = Pipeline([('scaler', StandardScaler()), \n",
    "                          (model_name, original)])\n",
    "    \n",
    "    pipe_grid = Pipeline([('scaler', StandardScaler()), \n",
    "                      ('gridSearchCV', gridSearched)])\n",
    "    \n",
    "    # Fitataan\n",
    "    pipe_orig.fit(X_train, y_train)\n",
    "    pipe_grid.fit(X_train, y_train)\n",
    "    \n",
    "    # Scoren tulostus\n",
    "    clear_output(wait=True) # Tyhjentää ruudun ennen printtausta\n",
    "    print(model_name,\"accuracy score\")\n",
    "    print(\"Original\",round(pipe_orig.score(X_test, y_test),2)*100,\"%\")\n",
    "    print(\"gridSearched\",round(pipe_grid.score(X_test, y_test),2)*100,\"%\")"
   ]
  },
  {
   "cell_type": "code",
   "execution_count": 27,
   "metadata": {},
   "outputs": [
    {
     "name": "stdout",
     "output_type": "stream",
     "text": [
      "GaussianNB accuracy score\n",
      "Original 80.0 %\n",
      "gridSearched 80.0 %\n"
     ]
    }
   ],
   "source": [
    "pipelineFitandScore(model_bayes,grid_bayes,X_train,y_train)"
   ]
  },
  {
   "cell_type": "code",
   "execution_count": 28,
   "metadata": {},
   "outputs": [
    {
     "name": "stdout",
     "output_type": "stream",
     "text": [
      "SVC accuracy score\n",
      "Original 83.0 %\n",
      "gridSearched 83.0 %\n"
     ]
    }
   ],
   "source": [
    "# Taas käytetään validointidataa SVC:n kanssa\n",
    "pipelineFitandScore(model_svc,grid_svc,X_val,y_val)"
   ]
  },
  {
   "cell_type": "code",
   "execution_count": 29,
   "metadata": {},
   "outputs": [
    {
     "name": "stdout",
     "output_type": "stream",
     "text": [
      "DecisionTreeClassifier accuracy score\n",
      "Original 81.0 %\n",
      "gridSearched 85.0 %\n"
     ]
    }
   ],
   "source": [
    "pipelineFitandScore(model_dt,grid_dt,X_train,y_train)"
   ]
  },
  {
   "cell_type": "markdown",
   "metadata": {},
   "source": [
    "## 8. Visualisoidaan tuloksia"
   ]
  },
  {
   "cell_type": "markdown",
   "metadata": {},
   "source": [
    "### 8.1 Hankitaan visualisointia varten testitulokset"
   ]
  },
  {
   "cell_type": "code",
   "execution_count": 37,
   "metadata": {},
   "outputs": [
    {
     "name": "stdout",
     "output_type": "stream",
     "text": [
      "GaussianNB accuracy score\n",
      "Original: 80.0 %\n",
      "gridSearched: 79.0 %\n",
      "\n"
     ]
    }
   ],
   "source": [
    "import matplotlib.pyplot as plt\n",
    "\n",
    "# Ajetaan testit vielä kerran läpi jotta saadaan scoret ylös muuttujiin\n",
    "dt_score_orig, dt_score_grid = fitAndCompare(model_dt,grid_dt,X_train,y_train)\n",
    "svc_score_orig, svc_score_grid = fitAndCompare(model_svc,grid_svc,X_val,y_val)\n",
    "bayes_score_orig, bayes_score_grid = fitAndCompare(model_bayes,grid_bayes,X_train,y_train)\n"
   ]
  },
  {
   "cell_type": "code",
   "execution_count": 38,
   "metadata": {},
   "outputs": [
    {
     "name": "stdout",
     "output_type": "stream",
     "text": [
      "[81.0, 85.0, 80.0, 83.0, 80.0, 79.0]\n"
     ]
    }
   ],
   "source": [
    "# Lisätään scoret listaan\n",
    "scoresList = [dt_score_orig, dt_score_grid, svc_score_orig, svc_score_grid,bayes_score_orig, bayes_score_grid]\n",
    "print(scoresList)"
   ]
  },
  {
   "cell_type": "markdown",
   "metadata": {},
   "source": [
    "### 8.2 Visualisoidaan testitulokset pylväsdiagrammina"
   ]
  },
  {
   "cell_type": "code",
   "execution_count": 39,
   "metadata": {},
   "outputs": [
    {
     "data": {
      "image/png": "[encoded data removed]",
      "text/plain": [
       "<Figure size 432x288 with 1 Axes>"
      ]
     },
     "metadata": {
      "needs_background": "light"
     },
     "output_type": "display_data"
    }
   ],
   "source": [
    "import matplotlib.pyplot as plt\n",
    "\n",
    "fig = plt.figure()\n",
    "ax = fig.add_axes([0,0,1,1])\n",
    "ax.set_ylabel('Percentage')\n",
    "ax.set_title('Accuracy Score by Model')\n",
    "\n",
    "models = ['dt','dt_grid','svc', 'svc_grid', 'bayes','bayes_grid']\n",
    "rects = ax.bar(models,scoresList)\n",
    "\n",
    "def autolabel(rects):\n",
    "    for rect in rects:\n",
    "        height = rect.get_height()\n",
    "        ax.annotate('{}'.format(height),\n",
    "                    xy=(rect.get_x() + rect.get_width() / 2, height),\n",
    "                    xytext=(0, 3),  # 3 points vertical offset\n",
    "                    textcoords=\"offset points\",\n",
    "                    ha='center', va='bottom')\n",
    "\n",
    "autolabel(rects)\n",
    "\n",
    "plt.show()"
   ]
  },
  {
   "cell_type": "markdown",
   "metadata": {},
   "source": [
    "## Arviointi\n",
    "\n",
    "- [x] Taso 1: olet tehnyt yhden kolmesta (1/3) aktiviteetista (activity 11, 12, 13) dokumentoidusti\n",
    "\n",
    "- [x] Taso 2: olet tehnyt kaksi kolmesta (2/3) aktiviteetista (activity 11, 12, 13) dokumentoidusti\n",
    "\n",
    "- [x] Taso 3: olet edellisen lisäksi implementoinut gridsearchCV -algoritmin koodisi\n",
    "\n",
    "- [x] Taso 4: olet edellisten lisäksi käyttänyt pipeline menetelmää ja grid searchia optimoidaksesi algoritmit\n",
    "\n",
    "- [x] Taso 5: olet edellisten lisäksi visualisoinut jollakin menetelmällä luokittelun onnistumista"
   ]
  },
  {
   "cell_type": "code",
   "execution_count": null,
   "metadata": {},
   "outputs": [],
   "source": []
  }
 ],
 "metadata": {
  "kernelspec": {
   "display_name": "Python 3",
   "language": "python",
   "name": "python3"
  },
  "language_info": {
   "codemirror_mode": {
    "name": "ipython",
    "version": 3
   },
   "file_extension": ".py",
   "mimetype": "text/x-python",
   "name": "python",
   "nbconvert_exporter": "python",
   "pygments_lexer": "ipython3",
   "version": "3.7.6"
  }
 },
 "nbformat": 4,
 "nbformat_minor": 4
}
