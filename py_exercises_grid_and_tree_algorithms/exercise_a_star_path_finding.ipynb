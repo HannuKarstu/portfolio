{
 "cells": [
  {
   "cell_type": "markdown",
   "metadata": {},
   "source": [
    "# Tehtävä 5 - A Star -algoritmi\n",
    "Hannu Karstu - TTV19SAI\n",
    "\n",
    "## Tehtävänanto\n",
    "- Tee ohjelma, joka tekee reitinhaun karttaan\n",
    "    - Leveli määritellään 2 ulotteisena numpy taulukkona, jossa 0 tarkoittaa kuljettavissa olevaa solmua ja 1 seinää, jonka läpi ei voi kulkea\n",
    "    - Testilevelin koko 20x20\n",
    "    - Testilevelissä pitää olla seiniä esteinä, jotta varmistutaan algoritmin oikeanlainen toiminta\n",
    "- Koodaa A* algoritmi niin, että A* on omana funktionaan/luokkana erillisessä tiedostossa, joka sitten importataan testisovelluksen tiedostossa (modulaarinen ajattelu)\n",
    "- A) Ohjelma generoi satunnaisia lähtö ja maalipisteitä (10 kpl) ja suorittaa reitinhaun kullekkin lähtö/maalipisteelle levelissä:\n",
    "    - Ohjelma tulostaa levelin ruudulle, ennen hakua (pelkät lähtö ja maalipisteet+seinät)\n",
    "    - Ohjelma tulostaa levelin ruudulle, jossa näkyy reitinhaun tulos (lähtö+maalipiste+seinät+reitti).\n",
    "- B) Ohjelma hakee reitin A:sta B:hen kahdella erilaisella heuristiikan painotuksella. Visualisoi OpenListin sisältö karttaan, esim jollakin kirjaimella."
   ]
  },
  {
   "cell_type": "markdown",
   "metadata": {},
   "source": [
    "## 1. Importit"
   ]
  },
  {
   "cell_type": "code",
   "execution_count": 1,
   "metadata": {},
   "outputs": [],
   "source": [
    "import random\n",
    "import math  \n",
    "import numpy as np\n",
    "\n",
    "from time import sleep \n",
    "from os import system, name\n",
    "\n",
    "from IPython.display import clear_output\n",
    "\n",
    "import matplotlib.pyplot as plt\n",
    "from matplotlib.pyplot import figure"
   ]
  },
  {
   "cell_type": "markdown",
   "metadata": {},
   "source": [
    "## 2. Luodaan sokkelo"
   ]
  },
  {
   "cell_type": "code",
   "execution_count": 2,
   "metadata": {},
   "outputs": [],
   "source": [
    "def createMaze():\n",
    "    maze = np.array([\n",
    "        [0, 0, 0, 1, 0, 0, 0, 0, 0, 0, 0, 0, 1, 0, 0, 1, 0, 0, 0, 0,],\n",
    "        [0, 0, 0, 1, 0, 0, 0, 0, 0, 0, 0, 0, 1, 0, 0, 1, 0, 0, 0, 0,],\n",
    "        [0, 0, 0, 1, 0, 0, 0, 0, 0, 0, 0, 0, 1, 0, 0, 1, 0, 0, 0, 0,],\n",
    "        [0, 0, 0, 1, 0, 0, 0, 0, 0, 0, 0, 0, 1, 0, 0, 0, 0, 0, 0, 0,],\n",
    "        [0, 0, 0, 1, 1, 1, 1, 1, 0, 0, 0, 0, 0, 0, 0, 0, 0, 0, 0, 0,],\n",
    "        [0, 0, 0, 1, 0, 0, 0, 0, 0, 0, 0, 1, 0, 0, 0, 0, 0, 0, 0, 0,],\n",
    "        [0, 0, 0, 1, 0, 0, 0, 0, 0, 0, 0, 1, 0, 0, 0, 1, 1, 1, 1, 1,],\n",
    "        [0, 0, 0, 1, 0, 0, 0, 0, 0, 0, 0, 1, 0, 0, 0, 0, 0, 0, 0, 0,],\n",
    "        [0, 0, 0, 0, 0, 0, 0, 0, 0, 0, 0, 1, 0, 0, 0, 0, 0, 0, 0, 0,],\n",
    "        [0, 0, 0, 0, 0, 0, 0, 0, 0, 0, 0, 1, 0, 0, 0, 0, 0, 0, 0, 0,],\n",
    "        [0, 0, 1, 1, 1, 1, 1, 1, 0, 0, 0, 1, 0, 0, 0, 0, 0, 0, 0, 0,],\n",
    "        [0, 0, 0, 0, 0, 0, 0, 0, 0, 1, 1, 1, 1, 1, 1, 0, 0, 0, 0, 0,],\n",
    "        [0, 0, 0, 0, 0, 0, 0, 0, 0, 0, 1, 0, 0, 0, 0, 0, 0, 0, 0, 0,],\n",
    "        [1, 1, 1, 1, 1, 0, 0, 0, 0, 0, 1, 0, 0, 0, 0, 0, 0, 0, 0, 0,],\n",
    "        [0, 0, 0, 0, 0, 0, 0, 1, 0, 0, 1, 0, 0, 0, 0, 0, 1, 0, 0, 0,],\n",
    "        [0, 0, 0, 0, 0, 0, 0, 1, 0, 0, 1, 0, 0, 0, 0, 0, 1, 0, 0, 0,],\n",
    "        [0, 0, 0, 0, 0, 0, 0, 1, 0, 0, 1, 0, 0, 0, 0, 0, 1, 0, 0, 0,],\n",
    "        [0, 0, 0, 0, 0, 0, 0, 1, 0, 0, 1, 0, 0, 0, 0, 0, 1, 0, 0, 0,],\n",
    "        [0, 0, 0, 0, 0, 0, 0, 1, 0, 0, 0, 0, 0, 0, 0, 0, 1, 0, 0, 0,],\n",
    "        [0, 0, 0, 0, 0, 0, 0, 1, 0, 0, 0, 0, 0, 0, 0, 0, 1, 0, 0, 0,],\n",
    "             ])\n",
    "    return maze"
   ]
  },
  {
   "cell_type": "markdown",
   "metadata": {},
   "source": [
    "## 3. Piirretään sokkelo"
   ]
  },
  {
   "cell_type": "code",
   "execution_count": 3,
   "metadata": {},
   "outputs": [
    {
     "data": {
      "image/png": "[encoded data removed]",
      "text/plain": [
       "<Figure size 576x576 with 1 Axes>"
      ]
     },
     "metadata": {
      "needs_background": "light"
     },
     "output_type": "display_data"
    }
   ],
   "source": [
    "fig, ax = plt.subplots(figsize=(8,8))\n",
    "\n",
    "ax.imshow(createMaze(), cmap=plt.cm.Dark2)\n",
    "\n",
    "plt.show()"
   ]
  },
  {
   "cell_type": "markdown",
   "metadata": {},
   "source": [
    "## 4. Generoidaan lähtö- ja maalipisteet"
   ]
  },
  {
   "cell_type": "code",
   "execution_count": 4,
   "metadata": {},
   "outputs": [],
   "source": [
    "def createStartsAndGoals(amount,maze):\n",
    "    # Listat aloitus- ja lopetuspisteille\n",
    "    starting_points = []\n",
    "    goal_points = []\n",
    "\n",
    "    # Lisätään listoihin 10 aloitus- ja lopetuspistettä,\n",
    "    # jotka eivät ole seinien sisällä\n",
    "    for i in range (0,amount):\n",
    "        while True:\n",
    "            X_start = random.randint(0,19)\n",
    "            Y_start = random.randint(0,19)\n",
    "            X_goal = random.randint(0,19)\n",
    "            Y_goal = random.randint(0,19)\n",
    "\n",
    "            # Tarkistetaan ettei olla seinän sisällä\n",
    "            if maze[X_start,Y_start] == 0 and maze[X_goal,Y_goal] == 0:\n",
    "                # Tarkistetaan ettei aloitus- ja lopetus ole sama piste\n",
    "                if X_start != X_goal and Y_start != Y_goal:\n",
    "                    break\n",
    "\n",
    "        # Lisätään listalle       \n",
    "        starting_points.append([X_start,Y_start])\n",
    "        goal_points.append([X_goal,Y_goal])\n",
    "\n",
    "    print(\"Starting points:\",starting_points)\n",
    "    print(\"Goal points:\",goal_points)\n",
    "    \n",
    "    return starting_points, goal_points"
   ]
  },
  {
   "cell_type": "markdown",
   "metadata": {},
   "source": [
    "## 5. Node-luokka"
   ]
  },
  {
   "cell_type": "code",
   "execution_count": 5,
   "metadata": {},
   "outputs": [],
   "source": [
    "class Node:\n",
    "    def __init__(self, pos):\n",
    "        # Sijainti\n",
    "        self.pos = pos\n",
    "        \n",
    "        # Mistä nodesta tultiin tähän nodeen.\n",
    "        self.parent = None\n",
    "        \n",
    "        # f = Kokonaiskustannus\n",
    "        # f = g+h\n",
    "        self.f = 0\n",
    "        \n",
    "        # etäisyyskustannus start -> oma sijainti\n",
    "        self.g = 0\n",
    "        \n",
    "        # etäisyys oma sijainti -> goal\n",
    "        self.h = 0\n",
    "    \n",
    "    # Uuden sijainnin määrittäminen child-nodeille\n",
    "    #  neljään ilmansuuntaan\n",
    "    def newPos(self, direction):\n",
    "        pos = self.pos\n",
    "        \n",
    "        # vasen\n",
    "        if direction == 0:\n",
    "            self.pos = (pos[0]-1,pos[1])\n",
    "            \n",
    "        # oikea\n",
    "        elif direction == 1:\n",
    "            self.pos = (pos[0]+1,pos[1])\n",
    "            \n",
    "        # ylös\n",
    "        elif direction == 2:\n",
    "            self.pos = (pos[0],pos[1]+1)\n",
    "            \n",
    "        # alas\n",
    "        elif direction == 3:\n",
    "            self.pos = (pos[0],pos[1]-1)\n",
    "            \n",
    "        "
   ]
  },
  {
   "cell_type": "markdown",
   "metadata": {},
   "source": [
    "## 6. Valmiin reitin piirto\n",
    "- Piirtää reitinhakualgoritmin etsimän parhaan reitin kartalle"
   ]
  },
  {
   "cell_type": "code",
   "execution_count": 6,
   "metadata": {},
   "outputs": [],
   "source": [
    "def plotPath(path, maze, heuristic):\n",
    "    for i in path:\n",
    "        clear_output(wait=True)    \n",
    "\n",
    "        maze[i[0]][i[1]] = 2\n",
    "\n",
    "        fig, ax = plt.subplots(figsize=(8,8))\n",
    "\n",
    "        ax.imshow(maze, cmap=plt.cm.Dark2)\n",
    "        \n",
    "        title = 'Path found with heuristic '+str(heuristic)\n",
    "    \n",
    "        fig.suptitle(title, fontsize=16)\n",
    "\n",
    "        ax.scatter(start[1],start[0], marker = \"*\", color = \"yellow\", s = 400)\n",
    "\n",
    "        ax.scatter(goal[1],goal[0], marker = \"*\", color = \"red\", s = 200)\n",
    "\n",
    "        plt.show()"
   ]
  },
  {
   "cell_type": "markdown",
   "metadata": {},
   "source": [
    "## 7. Reitinhaun piirto\n",
    "- Piirtää kartalle reitinhakualgoritmin vaiheet"
   ]
  },
  {
   "cell_type": "code",
   "execution_count": 7,
   "metadata": {},
   "outputs": [],
   "source": [
    "speed = 0.001\n",
    "\n",
    "\n",
    "def plotFind(start,goal,heuristic):\n",
    "    #sleep(speed)\n",
    "    clear_output(wait=True)\n",
    "\n",
    "    fig, ax = plt.subplots(figsize=(8,8))\n",
    "\n",
    "    ax.imshow(maze, cmap=plt.cm.Dark2)\n",
    "\n",
    "    ax.scatter(start[1],start[0], marker = \"*\", color = \"yellow\", s = 400)\n",
    "    \n",
    "    title = 'Pathfinding with heuristic '+str(heuristic)\n",
    "    \n",
    "    fig.suptitle(title, fontsize=16)\n",
    "\n",
    "    ax.scatter(goal[1],goal[0], marker = \"*\", color = \"red\", s = 200)\n",
    "\n",
    "    plt.show()"
   ]
  },
  {
   "cell_type": "markdown",
   "metadata": {},
   "source": [
    "## 8. Algoritmit"
   ]
  },
  {
   "cell_type": "code",
   "execution_count": 8,
   "metadata": {},
   "outputs": [],
   "source": [
    "# Etäisyydenlaskentafunktio sijainnista maaliin\n",
    "def calculateH(pos, goal, heuristic):\n",
    "    X = pos[0] - goal[0]\n",
    "    Y = pos[1] - goal[1]\n",
    "    \n",
    "    if heuristic == \"euclidean\":\n",
    "        return (math.sqrt(X**2 + Y**2))\n",
    "    \n",
    "    elif heuristic == \"manhattan\":\n",
    "        X_abs = math.sqrt(X**2)\n",
    "        Y_abs = math.sqrt(Y**2)\n",
    "        return (X_abs + Y_abs)\n",
    "    \n",
    "    # Kuin euclidinen, mutta ei oteta neliöjuurta\n",
    "    elif heuristic == \"best\":\n",
    "        return ((X**2 + Y**2))\n",
    "\n",
    "    \n",
    "# Tämän avulla järjestetään open_list\n",
    "def get_my_key(obj):\n",
    "    return obj['f']\n",
    "\n",
    "\n",
    "# Itse algoritmi\n",
    "def astar(maze,start_pos,goal_pos,heuristic):\n",
    "    # Määritetään aloitusnode\n",
    "    start = Node(start_pos)\n",
    "    start.g = start.h = start.f = 0\n",
    "    \n",
    "    # Määritetään lopetusnode\n",
    "    goal = Node(goal_pos)\n",
    "    goal.g = goal.h = goal.f = 0\n",
    "\n",
    "    \n",
    "    start.h = calculateH(start.pos,goal.pos,heuristic)\n",
    "    \n",
    "    # Nodet joihin mennään\n",
    "    open_list = []\n",
    "    \n",
    "    # Nodet joissa käyty\n",
    "    closed_list = []\n",
    "    \n",
    "    open_list.append(start)\n",
    "    \n",
    "    while len(open_list) > 0:\n",
    "\n",
    "        # Järjestetään pienin f, eli matka maaliin ekaksi\n",
    "        open_list = sorted(open_list, key=lambda x: x.f)\n",
    "        \n",
    "        current = open_list[0]\n",
    "        current.h = calculateH(current.pos,goal.pos,heuristic)\n",
    "        current.f = current.h + current.g\n",
    "        \n",
    "        maze[current.pos[0]][current.pos[1]] = 3\n",
    "        \n",
    "        # Tätä ei käytetä ollenkaan. Tein sittenkin tarkastelun taulukon avulla.\n",
    "        closed_list.append(current)\n",
    "        open_list.pop(0)      \n",
    "        \n",
    "        \n",
    "        # Kun ollaan maalissa\n",
    "        if current.pos == goal.pos:\n",
    "            \n",
    "            # Polku jota pitkin kuljetaan\n",
    "            path = []\n",
    "            current_node = current\n",
    "            while current_node is not None:\n",
    "                path.append(current_node.pos)\n",
    "                current_node = current_node.parent\n",
    "            \n",
    "            print(\"YOU DID IT!\")\n",
    "            \n",
    "            # Palautetaan polku käänteisessä järjestyksessä.\n",
    "            return path[::-1]\n",
    "        \n",
    "        \n",
    "        \n",
    "        child_nodes = []\n",
    "        \n",
    "            \n",
    "        # Käydään jokainen pääilmansuunta läpi\n",
    "        for direction in range (0,4):\n",
    "\n",
    "            # Kopioidaan lapseksi nykyinen node\n",
    "            child = Node(current.pos)\n",
    "\n",
    "            # Määritetään lapsen vanhempi\n",
    "            child.parent = current\n",
    "\n",
    "            # Otetaan lapselle uusi sijainti\n",
    "            child.newPos(direction)\n",
    "\n",
    "            # Onko lapsi kartalla:\n",
    "            if child.pos[0] > -1 and child.pos[0] < maze.shape[0] and child.pos[1] > -1 and child.pos[1] < maze.shape[1]:\n",
    "                \n",
    "                # Onko lapsi seinän sisällä:\n",
    "                if maze[child.pos[0]][child.pos[1]] != 1:\n",
    "                    \n",
    "                    # Lapsi ei voi olla käyty solu\n",
    "                    if maze[child.pos[0]][child.pos[1]] != 3:\n",
    "                        \n",
    "                        # Lapsi ei voi olla jonkun muun lapsen paikalla\n",
    "                        if maze[child.pos[0]][child.pos[1]] != 2:\n",
    "                            child.h = calculateH(child.pos,goal.pos,heuristic)\n",
    "                            child.g = current.g + 1\n",
    "                            child.f = child.h + child.g\n",
    "\n",
    "                            # Lisätään lapsilistaan\n",
    "                            open_list.append(child) \n",
    "\n",
    "                            # Plotataan lapsi kartalle näkyville\n",
    "                            maze[child.pos[0]][child.pos[1]] = 2\n",
    "                            plotFind(start_pos,goal_pos,heuristic)"
   ]
  },
  {
   "cell_type": "markdown",
   "metadata": {},
   "source": [
    "## 9. Funktion ajo\n",
    "- a. luodaan sokkelo\n",
    "- b. luodaan aloitus- ja lopetuspisteet\n",
    "- c. ajetaan reitinhaku niin monta kierrosta kuin aloitus- ja lopetuspisteitä on\n",
    "- d. ajetaan jokaiselle aloitus- ja lopetuspisteelle 3 erilaista heuristiikkaa\n",
    "- e. piirretään reitinhaku kartalle\n",
    "- f. piirretään löydetty reitti kartalle."
   ]
  },
  {
   "cell_type": "code",
   "execution_count": null,
   "metadata": {},
   "outputs": [
    {
     "data": {
      "image/png": "[encoded data removed]",
      "text/plain": [
       "<Figure size 576x576 with 1 Axes>"
      ]
     },
     "metadata": {
      "needs_background": "light"
     },
     "output_type": "display_data"
    }
   ],
   "source": [
    "# Luodaan sokkelo\n",
    "maze = createMaze()\n",
    "\n",
    "# Luodaan aloitus- ja lopetuspisteet, parametrina määrä\n",
    "starting_points, goal_points = createStartsAndGoals(10,maze)\n",
    "\n",
    "# Montako kierrosta mennään\n",
    "rounds = len(starting_points)\n",
    "\n",
    "\n",
    "for i in range(0,rounds):\n",
    "    # Luodaan sokkelo uudestaan joka kierroksen alussa\n",
    "    maze = createMaze()\n",
    "    \n",
    "    # Monesko aloituspiste:\n",
    "    start_number = goal_number = i\n",
    "    \n",
    "    # Määritetään aloitus- ja lopetuspiste listalta\n",
    "    start = (starting_points[start_number][0],starting_points[start_number][1])\n",
    "    goal = (goal_points[goal_number][0],goal_points[goal_number][1])\n",
    "    \n",
    "    heuristics = [\"euclidean\",\"manhattan\",\"best\"]\n",
    "    \n",
    "    for heuristic in heuristics:\n",
    "        maze = createMaze()\n",
    "        # Otetaan kartta talteen reitinpiirtoa varten\n",
    "        pathMaze = maze.copy()\n",
    "\n",
    "        #heuristic = \"manhattan\"\n",
    "        #heuristic = \"euclidean\"\n",
    "        #heuristic = \"best\"  # Kuin euclidean, mutta ei oteta neliöjuurta\n",
    "\n",
    "        # Ajetaan astar ja otetaan reitti path-muuttujaan\n",
    "        path = astar(maze,start,goal,heuristic)\n",
    "\n",
    "        # Piirretään reitti\n",
    "        plotPath(path,pathMaze,heuristic)"
   ]
  },
  {
   "cell_type": "code",
   "execution_count": null,
   "metadata": {},
   "outputs": [],
   "source": []
  }
 ],
 "metadata": {
  "kernelspec": {
   "display_name": "Python 3",
   "language": "python",
   "name": "python3"
  },
  "language_info": {
   "codemirror_mode": {
    "name": "ipython",
    "version": 3
   },
   "file_extension": ".py",
   "mimetype": "text/x-python",
   "name": "python",
   "nbconvert_exporter": "python",
   "pygments_lexer": "ipython3",
   "version": "3.7.6"
  }
 },
 "nbformat": 4,
 "nbformat_minor": 4
}
